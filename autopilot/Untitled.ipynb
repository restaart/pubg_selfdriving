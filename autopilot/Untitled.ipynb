{
 "cells": [
  {
   "cell_type": "code",
   "execution_count": 2,
   "metadata": {
    "collapsed": true
   },
   "outputs": [],
   "source": [
    "import win32gui\n",
    "flags, hcursor, (x,y) = win32gui.GetCursorInfo()"
   ]
  },
  {
   "cell_type": "code",
   "execution_count": 13,
   "metadata": {},
   "outputs": [
    {
     "data": {
      "text/plain": [
       "(1, 65539, (475, 319))"
      ]
     },
     "execution_count": 13,
     "metadata": {},
     "output_type": "execute_result"
    }
   ],
   "source": [
    "win32gui.GetCursorInfo()"
   ]
  },
  {
   "cell_type": "code",
   "execution_count": 6,
   "metadata": {
    "collapsed": true
   },
   "outputs": [],
   "source": [
    "from ipywidgets import interact, interactive, fixed, interact_manual\n",
    "from IPython.display import clear_output\n",
    "import ipywidgets as widgets"
   ]
  },
  {
   "cell_type": "code",
   "execution_count": 5,
   "metadata": {},
   "outputs": [
    {
     "ename": "NameError",
     "evalue": "name 'clear_output' is not defined",
     "output_type": "error",
     "traceback": [
      "\u001b[1;31m---------------------------------------------------------------------------\u001b[0m",
      "\u001b[1;31mNameError\u001b[0m                                 Traceback (most recent call last)",
      "\u001b[1;32m<ipython-input-5-49056bba7eb9>\u001b[0m in \u001b[0;36m<module>\u001b[1;34m()\u001b[0m\n\u001b[0;32m      6\u001b[0m     \u001b[0mcoords\u001b[0m\u001b[1;33m.\u001b[0m\u001b[0mappend\u001b[0m\u001b[1;33m(\u001b[0m\u001b[0mc\u001b[0m\u001b[1;33m)\u001b[0m\u001b[1;33m\u001b[0m\u001b[0m\n\u001b[0;32m      7\u001b[0m     \u001b[0mtime\u001b[0m\u001b[1;33m.\u001b[0m\u001b[0msleep\u001b[0m\u001b[1;33m(\u001b[0m\u001b[1;36m0.04\u001b[0m\u001b[1;33m)\u001b[0m\u001b[1;33m\u001b[0m\u001b[0m\n\u001b[1;32m----> 8\u001b[1;33m     \u001b[0mclear_output\u001b[0m\u001b[1;33m(\u001b[0m\u001b[0mwait\u001b[0m\u001b[1;33m=\u001b[0m\u001b[1;32mTrue\u001b[0m\u001b[1;33m)\u001b[0m\u001b[1;33m\u001b[0m\u001b[0m\n\u001b[0m",
      "\u001b[1;31mNameError\u001b[0m: name 'clear_output' is not defined"
     ]
    }
   ],
   "source": [
    "import time\n",
    "t = time.time()\n",
    "coords = []\n",
    "while time.time()<(t+5):\n",
    "    flags, hcursor, c = win32gui.GetCursorInfo()\n",
    "    coords.append(c)\n",
    "    time.sleep(0.04)\n",
    "    clear_output(wait=True)"
   ]
  },
  {
   "cell_type": "code",
   "execution_count": 136,
   "metadata": {},
   "outputs": [
    {
     "data": {
      "text/plain": [
       "[(273, 264),\n",
       " (273, 264),\n",
       " (273, 264),\n",
       " (273, 264),\n",
       " (273, 264),\n",
       " (273, 264),\n",
       " (273, 264),\n",
       " (273, 264),\n",
       " (273, 264),\n",
       " (273, 276),\n",
       " (273, 378),\n",
       " (268, 584),\n",
       " (254, 649),\n",
       " (252, 659),\n",
       " (256, 615),\n",
       " (264, 487),\n",
       " (286, 356),\n",
       " (290, 305),\n",
       " (292, 294),\n",
       " (306, 295),\n",
       " (352, 302),\n",
       " (408, 306),\n",
       " (433, 306),\n",
       " (431, 327),\n",
       " (427, 399),\n",
       " (427, 557),\n",
       " (435, 648),\n",
       " (438, 659),\n",
       " (439, 619),\n",
       " (445, 576),\n",
       " (464, 536),\n",
       " (482, 502),\n",
       " (517, 468),\n",
       " (523, 461),\n",
       " (523, 461),\n",
       " (521, 490),\n",
       " (529, 582),\n",
       " (542, 775),\n",
       " (556, 869),\n",
       " (561, 878),\n",
       " (561, 846),\n",
       " (515, 607),\n",
       " (518, 545),\n",
       " (545, 500),\n",
       " (578, 479),\n",
       " (612, 482),\n",
       " (621, 500),\n",
       " (596, 565),\n",
       " (534, 569),\n",
       " (503, 540),\n",
       " (502, 529),\n",
       " (523, 530),\n",
       " (543, 538),\n",
       " (544, 538),\n",
       " (546, 538),\n",
       " (551, 541),\n",
       " (558, 546),\n",
       " (598, 549),\n",
       " (632, 531),\n",
       " (657, 479),\n",
       " (665, 458),\n",
       " (665, 454),\n",
       " (664, 464),\n",
       " (664, 516),\n",
       " (678, 570),\n",
       " (701, 561),\n",
       " (722, 522),\n",
       " (743, 487),\n",
       " (751, 469),\n",
       " (751, 472),\n",
       " (751, 508),\n",
       " (759, 568),\n",
       " (772, 581),\n",
       " (783, 567),\n",
       " (801, 540),\n",
       " (850, 449),\n",
       " (891, 390),\n",
       " (960, 316),\n",
       " (978, 278),\n",
       " (971, 271),\n",
       " (951, 293),\n",
       " (902, 351),\n",
       " (872, 461),\n",
       " (888, 593),\n",
       " (905, 629),\n",
       " (924, 630),\n",
       " (936, 591),\n",
       " (917, 551),\n",
       " (884, 536),\n",
       " (866, 536),\n",
       " (865, 536),\n",
       " (895, 540),\n",
       " (975, 550),\n",
       " (1077, 536),\n",
       " (1159, 505),\n",
       " (1173, 475),\n",
       " (1148, 455),\n",
       " (1114, 459),\n",
       " (1083, 485),\n",
       " (1057, 532),\n",
       " (1066, 592),\n",
       " (1120, 602),\n",
       " (1182, 581),\n",
       " (1264, 522),\n",
       " (1302, 469),\n",
       " (1312, 429),\n",
       " (1313, 419),\n",
       " (1313, 430),\n",
       " (1324, 540),\n",
       " (1308, 587),\n",
       " (1292, 599),\n",
       " (1290, 590),\n",
       " (1297, 538),\n",
       " (1285, 472),\n",
       " (1279, 454),\n",
       " (1277, 453),\n",
       " (1266, 453),\n",
       " (1265, 454),\n",
       " (1265, 454),\n",
       " (1265, 454),\n",
       " (1305, 461),\n",
       " (1437, 464)]"
      ]
     },
     "execution_count": 136,
     "metadata": {},
     "output_type": "execute_result"
    }
   ],
   "source": [
    "coords"
   ]
  },
  {
   "cell_type": "code",
   "execution_count": 22,
   "metadata": {},
   "outputs": [],
   "source": [
    "def drawText(tx,ty,text):\n",
    "    hdc=win32gui.GetDC(0)\n",
    "    hwnd=win32gui.WindowFromPoint((0,0))\n",
    "    win32gui.DrawText(hdc,text, -1, (tx,ty,tx+200,ty+200),0)\n",
    "    win32gui.ReleaseDC(hwnd,hdc)\n",
    "    \n",
    "def drawLine(coords):\n",
    "    hdc=win32gui.GetDC(0)\n",
    "    pen = win32ui.CreatePen(win32con.PS_SOLID, 10, RGB(255, 0, 0))\n",
    "    hDC.SelectObject(pen)\n",
    "    hwnd=win32gui.WindowFromPoint((0,0))\n",
    "    win32gui.MoveToEx(hdc,coords[0],coords[1])\n",
    "    win32gui.LineTo(hdc,coords[2],coords[3])\n",
    "    win32gui.ReleaseDC(hwnd,hdc)"
   ]
  },
  {
   "cell_type": "code",
   "execution_count": 3,
   "metadata": {},
   "outputs": [
    {
     "ename": "NameError",
     "evalue": "name 'hDC' is not defined",
     "output_type": "error",
     "traceback": [
      "\u001b[1;31m---------------------------------------------------------------------------\u001b[0m",
      "\u001b[1;31mNameError\u001b[0m                                 Traceback (most recent call last)",
      "\u001b[1;32m<ipython-input-3-530e3daebbaa>\u001b[0m in \u001b[0;36m<module>\u001b[1;34m()\u001b[0m\n\u001b[0;32m      4\u001b[0m \u001b[1;33m\u001b[0m\u001b[0m\n\u001b[0;32m      5\u001b[0m \u001b[0mpen\u001b[0m \u001b[1;33m=\u001b[0m \u001b[0mwin32ui\u001b[0m\u001b[1;33m.\u001b[0m\u001b[0mCreatePen\u001b[0m\u001b[1;33m(\u001b[0m\u001b[0mwin32con\u001b[0m\u001b[1;33m.\u001b[0m\u001b[0mPS_SOLID\u001b[0m\u001b[1;33m,\u001b[0m \u001b[1;36m1\u001b[0m\u001b[1;33m,\u001b[0m \u001b[0mRGB\u001b[0m\u001b[1;33m(\u001b[0m\u001b[1;36m255\u001b[0m\u001b[1;33m,\u001b[0m \u001b[1;36m0\u001b[0m\u001b[1;33m,\u001b[0m \u001b[1;36m0\u001b[0m\u001b[1;33m)\u001b[0m\u001b[1;33m)\u001b[0m\u001b[1;33m\u001b[0m\u001b[0m\n\u001b[1;32m----> 6\u001b[1;33m \u001b[0mhDC\u001b[0m\u001b[1;33m.\u001b[0m\u001b[0mSelectObject\u001b[0m\u001b[1;33m(\u001b[0m\u001b[0mpen\u001b[0m\u001b[1;33m)\u001b[0m\u001b[1;33m\u001b[0m\u001b[0m\n\u001b[0m",
      "\u001b[1;31mNameError\u001b[0m: name 'hDC' is not defined"
     ]
    }
   ],
   "source": [
    "import win32ui,win32con\n",
    "from win32api import RGB\n",
    "\n",
    "\n",
    "pen = win32ui.CreatePen(win32con.PS_SOLID, 1, RGB(255, 0, 0))\n",
    "hDC.SelectObject(pen)"
   ]
  },
  {
   "cell_type": "code",
   "execution_count": 20,
   "metadata": {},
   "outputs": [],
   "source": [
    "\n",
    "coords  = np.array([500,100,200,200])\n",
    "t = time.time()\n",
    "\n",
    "\n",
    "while time.time()<(t+5):\n",
    "    \n",
    "    hdc=win32gui.GetDC(0)\n",
    "    hwnd=win32gui.WindowFromPoint((0,0))\n",
    "    pen = win32gui.CreatePen(win32con.PS_SOLID, 10, RGB(255, 0, 0))\n",
    "    br=   win32gui.CreateSolidBrush(RGB(255,0,0))\n",
    "    win32gui.SelectObject(hdc, pen)\n",
    "    \n",
    "    win32gui.MoveToEx(hdc,coords[0],coords[1])\n",
    "    win32gui.LineTo(hdc,coords[2],coords[3])\n",
    "    win32gui.ReleaseDC(hwnd,hdc)\n",
    "    \n"
   ]
  },
  {
   "cell_type": "code",
   "execution_count": 34,
   "metadata": {},
   "outputs": [],
   "source": [
    "# time.sleep(1)\n",
    "\n",
    "t = time.time()\n",
    "coords = np.array([(200,200),(300,200),(300,300),(200,300),(200,200)])\n",
    "coords = coords + 300\n",
    "coords\n",
    "while time.time()<(t+2):\n",
    "#     hdc=win32gui.GetDC(0)\n",
    "    hwnd=win32gui.WindowFromPoint((100,100))\n",
    "    hdc,ps = win32gui.BeginPaint(hwnd)\n",
    "#     hdc = win32gui.CreateCompatibleDC(hwnd)\n",
    "    \n",
    "#     win32gui.SetGraphicsMode(hdc, win32con.GM_ADVANCED)\n",
    "\n",
    "#     win32gui.SetBkMode(hdc, win32con.TRANSPARENT)\n",
    "    win32gui.BeginPath(hdc)\n",
    "    c = coords[0]\n",
    "    win32gui.MoveToEx(hdc,c[0],c[1])\n",
    "    for c in coords[1:]:\n",
    "        win32gui.LineTo(hdc,c[0],c[1])\n",
    "    win32gui.EndPath(hdc)\n",
    "\n",
    "    win32gui.StrokePath(hdc)\n",
    "\n",
    "    win32gui.EndPaint(hwnd, ps)\n",
    "\n",
    "#     win32gui.ReleaseDC(hwnd,hdc)\n",
    "    "
   ]
  },
  {
   "cell_type": "code",
   "execution_count": 35,
   "metadata": {},
   "outputs": [
    {
     "ename": "error",
     "evalue": "(6, 'AbortPath', 'Неверный дескриптор.')",
     "output_type": "error",
     "traceback": [
      "\u001b[1;31m---------------------------------------------------------------------------\u001b[0m",
      "\u001b[1;31merror\u001b[0m                                     Traceback (most recent call last)",
      "\u001b[1;32m<ipython-input-35-ac52734361b0>\u001b[0m in \u001b[0;36m<module>\u001b[1;34m()\u001b[0m\n\u001b[1;32m----> 1\u001b[1;33m \u001b[0mwin32gui\u001b[0m\u001b[1;33m.\u001b[0m\u001b[0mAbortPath\u001b[0m\u001b[1;33m(\u001b[0m\u001b[0mhdc\u001b[0m\u001b[1;33m)\u001b[0m\u001b[1;33m\u001b[0m\u001b[0m\n\u001b[0m",
      "\u001b[1;31merror\u001b[0m: (6, 'AbortPath', 'Неверный дескриптор.')"
     ]
    }
   ],
   "source": [
    "win32gui.AbortPath(hdc)"
   ]
  },
  {
   "cell_type": "code",
   "execution_count": 8,
   "metadata": {},
   "outputs": [
    {
     "data": {
      "text/plain": [
       "array([[500, 500],\n",
       "       [600, 500],\n",
       "       [600, 600],\n",
       "       [500, 600],\n",
       "       [500, 500]])"
      ]
     },
     "execution_count": 8,
     "metadata": {},
     "output_type": "execute_result"
    }
   ],
   "source": [
    "import numpy as np\n",
    "coords = np.array([(200,200),(300,200),(300,300),(200,300),(200,200)])\n",
    "coords = coords + 300\n",
    "coords"
   ]
  }
 ],
 "metadata": {
  "kernelspec": {
   "display_name": "Python 3",
   "language": "python",
   "name": "python3"
  },
  "language_info": {
   "codemirror_mode": {
    "name": "ipython",
    "version": 3
   },
   "file_extension": ".py",
   "mimetype": "text/x-python",
   "name": "python",
   "nbconvert_exporter": "python",
   "pygments_lexer": "ipython3",
   "version": "3.6.3"
  }
 },
 "nbformat": 4,
 "nbformat_minor": 2
}
