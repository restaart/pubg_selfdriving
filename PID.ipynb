{
 "cells": [
  {
   "cell_type": "code",
   "execution_count": 3,
   "metadata": {
    "collapsed": true
   },
   "outputs": [],
   "source": [
    "import matplotlib.pyplot as plt \n",
    "import numpy as np\n",
    "\n",
    "from ipywidgets import interact, interactive, fixed, interact_manual\n",
    "import ipywidgets as widgets"
   ]
  },
  {
   "cell_type": "code",
   "execution_count": 1,
   "metadata": {
    "collapsed": true
   },
   "outputs": [],
   "source": [
    "class PID():\n",
    "    def __init__(self,p,i,d,target):\n",
    "        self.p = p\n",
    "        self.i = i\n",
    "        self.d = d\n",
    "        self.target = target\n",
    "        self.lastError = None\n",
    "        self.intError = 0\n",
    "        \n",
    "    def control(self,value,dt):\n",
    "        error = self.target - value\n",
    "        if self.lastError is not None:\n",
    "            derror = (self.lastError - error)/dt\n",
    "        else:\n",
    "            derror = 0\n",
    "        self.lastError = error\n",
    "        self.intError += error*dt\n",
    "        \n",
    "        val = error*self.p + derror*self.d + self.intError*self.i\n",
    "        \n",
    "        if val > 1:\n",
    "            val = 1\n",
    "        elif val<-1:\n",
    "            val = -1\n",
    "        \n",
    "        return val\n",
    "    \n",
    "class Motor(object):\n",
    "    def __init__(self,fric,trot_coef=1):\n",
    "        self.x = 0\n",
    "        self.v = 0\n",
    "        self.a = 0\n",
    "        self.fric = fric\n",
    "        self.trot_coef = trot_coef\n",
    "        \n",
    "    \n",
    "    def move(self,control,dt):\n",
    "        dx = self.v\n",
    "        dv = control*self.trot_coef - self.v*self.fric\n",
    "\n",
    "        \n",
    "        self.x += dx*dt\n",
    "        self.v += dv*dt\n",
    "\n",
    "\n",
    "        \n",
    "        \n",
    "        "
   ]
  },
  {
   "cell_type": "code",
   "execution_count": 5,
   "metadata": {},
   "outputs": [
    {
     "data": {
      "application/vnd.jupyter.widget-view+json": {
       "model_id": "98a1121d57044490ab730d279c8e6b21",
       "version_major": 2,
       "version_minor": 0
      },
      "text/plain": [
       "interactive(children=(FloatSlider(value=0.1, description='kp', max=10.0), FloatSlider(value=0.0, description='…"
      ]
     },
     "metadata": {},
     "output_type": "display_data"
    },
    {
     "data": {
      "text/plain": [
       "<function __main__.simulate>"
      ]
     },
     "execution_count": 5,
     "metadata": {},
     "output_type": "execute_result"
    }
   ],
   "source": [
    "def simulate(kp,kd,ki):\n",
    "    time = 0\n",
    "    max_time = 10\n",
    "    dt = 0.01\n",
    "    control_value  = 40\n",
    "\n",
    "    motor = Motor(0.07,8.3)\n",
    "    pid = PID(kp,ki,kd,control_value)\n",
    "    x = []\n",
    "    times = []\n",
    "    val = 0\n",
    "    while time < max_time:\n",
    "        time += dt\n",
    "        val += pid.control(val,dt)\n",
    "        x.append(val)\n",
    "        times.append(time)\n",
    "\n",
    "\n",
    "    plt.plot(times,x) \n",
    "    plt.show()\n",
    "\n",
    "    return None\n",
    "    \n",
    "\n",
    "interact(simulate, kp=widgets.FloatSlider(min=0,   max=10, step=0.1, value=0.1),\n",
    "                   kd = widgets.FloatSlider(min=-1, max=1, step=0.1, value=0),\n",
    "                   ki = widgets.FloatSlider(min=0, max=5, step=0.1, value=0))"
   ]
  },
  {
   "cell_type": "code",
   "execution_count": 10,
   "metadata": {},
   "outputs": [
    {
     "data": {
      "text/html": [
       "<div>\n",
       "<style>\n",
       "    .dataframe thead tr:only-child th {\n",
       "        text-align: right;\n",
       "    }\n",
       "\n",
       "    .dataframe thead th {\n",
       "        text-align: left;\n",
       "    }\n",
       "\n",
       "    .dataframe tbody tr th {\n",
       "        vertical-align: top;\n",
       "    }\n",
       "</style>\n",
       "<table border=\"1\" class=\"dataframe\">\n",
       "  <thead>\n",
       "    <tr style=\"text-align: right;\">\n",
       "      <th></th>\n",
       "      <th>speed</th>\n",
       "      <th>azimuth</th>\n",
       "      <th>x</th>\n",
       "      <th>y</th>\n",
       "      <th>time</th>\n",
       "    </tr>\n",
       "  </thead>\n",
       "  <tbody>\n",
       "    <tr>\n",
       "      <th>0</th>\n",
       "      <td>0</td>\n",
       "      <td>180.044444</td>\n",
       "      <td>1024.000000</td>\n",
       "      <td>1148.000000</td>\n",
       "      <td>1.563921e+09</td>\n",
       "    </tr>\n",
       "    <tr>\n",
       "      <th>1</th>\n",
       "      <td>0</td>\n",
       "      <td>180.088889</td>\n",
       "      <td>1024.000000</td>\n",
       "      <td>1148.000000</td>\n",
       "      <td>1.563921e+09</td>\n",
       "    </tr>\n",
       "    <tr>\n",
       "      <th>2</th>\n",
       "      <td>0</td>\n",
       "      <td>180.000000</td>\n",
       "      <td>1027.174603</td>\n",
       "      <td>1147.174603</td>\n",
       "      <td>1.563921e+09</td>\n",
       "    </tr>\n",
       "    <tr>\n",
       "      <th>3</th>\n",
       "      <td>0</td>\n",
       "      <td>180.000000</td>\n",
       "      <td>1024.000000</td>\n",
       "      <td>1148.000000</td>\n",
       "      <td>1.563921e+09</td>\n",
       "    </tr>\n",
       "    <tr>\n",
       "      <th>4</th>\n",
       "      <td>0</td>\n",
       "      <td>180.000000</td>\n",
       "      <td>1024.000000</td>\n",
       "      <td>1148.000000</td>\n",
       "      <td>1.563921e+09</td>\n",
       "    </tr>\n",
       "  </tbody>\n",
       "</table>\n",
       "</div>"
      ],
      "text/plain": [
       "   speed     azimuth            x            y          time\n",
       "0      0  180.044444  1024.000000  1148.000000  1.563921e+09\n",
       "1      0  180.088889  1024.000000  1148.000000  1.563921e+09\n",
       "2      0  180.000000  1027.174603  1147.174603  1.563921e+09\n",
       "3      0  180.000000  1024.000000  1148.000000  1.563921e+09\n",
       "4      0  180.000000  1024.000000  1148.000000  1.563921e+09"
      ]
     },
     "execution_count": 10,
     "metadata": {},
     "output_type": "execute_result"
    }
   ],
   "source": [
    "import pandas as pd\n",
    "import matplotlib.pyplot as plt\n",
    "log = pd.read_csv('green_log.csv')\n",
    "log.head()"
   ]
  },
  {
   "cell_type": "code",
   "execution_count": 54,
   "metadata": {},
   "outputs": [
    {
     "data": {
      "application/vnd.jupyter.widget-view+json": {
       "model_id": "d70a2798ca944a8f93f50ce45e433b89",
       "version_major": 2,
       "version_minor": 0
      },
      "text/plain": [
       "interactive(children=(FloatSlider(value=0.1, description='trot', max=10.0), FloatSlider(value=0.0, description…"
      ]
     },
     "metadata": {},
     "output_type": "display_data"
    },
    {
     "data": {
      "text/plain": [
       "<function __main__.sim>"
      ]
     },
     "execution_count": 54,
     "metadata": {},
     "output_type": "execute_result"
    }
   ],
   "source": [
    "def sim(trot,fric):\n",
    "    t = (log.time - log.time[0])[5:]\n",
    "    s = log.speed[5:]\n",
    "    plt.plot(t,s)\n",
    "    s = []\n",
    "    t = []\n",
    "    time = 0\n",
    "    max_time = 50\n",
    "    dt = (log.time[1] - log.time[0])\n",
    "    motor = Motor(fric,trot)\n",
    "    while time < max_time:\n",
    "        time += dt\n",
    "        motor.move(1,dt)\n",
    "        s.append(motor.v)\n",
    "        t.append(time)\n",
    "    \n",
    "    plt.plot(t,s)\n",
    "    plt.show()   \n",
    "\n",
    "    \n",
    "interact(sim, trot = widgets.FloatSlider(min=0,   max=10, step=0.1, value=0.1),\n",
    "                   fric = widgets.FloatSlider(min=0, max=0.1, step=0.01, value=0))"
   ]
  },
  {
   "cell_type": "code",
   "execution_count": 40,
   "metadata": {},
   "outputs": [
    {
     "data": {
      "text/plain": [
       "20     10\n",
       "21     11\n",
       "22     12\n",
       "23     12\n",
       "24     13\n",
       "25     14\n",
       "26     14\n",
       "27     15\n",
       "28     16\n",
       "29     16\n",
       "30     17\n",
       "31     18\n",
       "32     18\n",
       "33     19\n",
       "34     19\n",
       "35     20\n",
       "36     21\n",
       "37     21\n",
       "38     22\n",
       "39     23\n",
       "40     23\n",
       "41     24\n",
       "42     24\n",
       "43     25\n",
       "44     26\n",
       "45     26\n",
       "46     27\n",
       "47     27\n",
       "48     28\n",
       "49     28\n",
       "       ..\n",
       "172    83\n",
       "173    83\n",
       "174    83\n",
       "175    83\n",
       "176    84\n",
       "177    84\n",
       "178    84\n",
       "179    84\n",
       "180    84\n",
       "181    85\n",
       "182    85\n",
       "183    85\n",
       "184    85\n",
       "185    85\n",
       "186    86\n",
       "187    86\n",
       "188    86\n",
       "189    86\n",
       "190    86\n",
       "191    87\n",
       "192    87\n",
       "193    87\n",
       "194    86\n",
       "195    85\n",
       "196    83\n",
       "197    81\n",
       "198    79\n",
       "199    75\n",
       "200    74\n",
       "201    72\n",
       "Name: speed, Length: 182, dtype: int64"
      ]
     },
     "execution_count": 40,
     "metadata": {},
     "output_type": "execute_result"
    }
   ],
   "source": [
    "s"
   ]
  }
 ],
 "metadata": {
  "kernelspec": {
   "display_name": "Python 3",
   "language": "python",
   "name": "python3"
  },
  "language_info": {
   "codemirror_mode": {
    "name": "ipython",
    "version": 3
   },
   "file_extension": ".py",
   "mimetype": "text/x-python",
   "name": "python",
   "nbconvert_exporter": "python",
   "pygments_lexer": "ipython3",
   "version": "3.6.3"
  }
 },
 "nbformat": 4,
 "nbformat_minor": 2
}
