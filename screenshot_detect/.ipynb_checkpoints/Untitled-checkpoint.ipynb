{
 "cells": [
  {
   "cell_type": "code",
   "execution_count": 12,
   "metadata": {},
   "outputs": [
    {
     "name": "stdout",
     "output_type": "stream",
     "text": [
      "Collecting keyboard\n",
      "  Downloading https://files.pythonhosted.org/packages/8d/14/b7a8f46e750b5905b099f0ae164a00bc99fe2a3029b4d54ae978797d2c15/keyboard-0.13.3-py2.py3-none-any.whl (58kB)\n",
      "Installing collected packages: keyboard\n",
      "Successfully installed keyboard-0.13.3\n"
     ]
    },
    {
     "name": "stderr",
     "output_type": "stream",
     "text": [
      "You are using pip version 19.0.3, however version 19.1.1 is available.\n",
      "You should consider upgrading via the 'python -m pip install --upgrade pip' command.\n"
     ]
    }
   ],
   "source": [
    "!pip install keyboard"
   ]
  },
  {
   "cell_type": "code",
   "execution_count": 26,
   "metadata": {},
   "outputs": [],
   "source": [
    "import numpy as np\n",
    "from PIL import ImageGrab\n",
    "import cv2\n",
    "import win32gui\n",
    "from digit_detector import digit_detector\n",
    "from time import sleep\n",
    "import keyboard\n",
    "from direct_input import keyCodes,PressKey,ReleaseKey\n",
    "\n",
    "def drawText(tx,ty,text):\n",
    "    hdc=win32gui.GetDC(0)\n",
    "    hwnd=win32gui.WindowFromPoint((0,0))\n",
    "    win32gui.DrawText(hdc,text, -1, (tx,ty,tx+200,ty+200),0)\n",
    "    win32gui.ReleaseDC(hwnd,hdc)\n",
    "\n",
    "def getScreenShot(bbox):\n",
    "    return np.array(ImageGrab.grab(bbox))\n",
    "\n",
    "def getSpeedShot(img):\n",
    "    return (img[987:1019,150:205].mean(axis =2) > 240).astype(np.int8)\n",
    "\n",
    "def getMapShot(img):\n",
    "    return img[795:1051,1627:1883]\n",
    "\n",
    "def getSpeedDigits(full_img):\n",
    "    img = (full_img[987:1019,150:205].mean(axis =2) > 240).astype(np.int8)\n",
    "    return [img[:,:16],img[:,17:33],img[:,35:51]]\n",
    "\n",
    "def getSpeed(full_img):\n",
    "    \n",
    "    return (\"\".join(digit_detector.predict(np.array([d.flatten() for d in getSpeedDigits(full_img)]))))\n",
    "\n",
    "active = True\n",
    "keepspeed = False\n",
    "\n",
    "keepspeed_max = 40\n",
    "\n",
    "while(active):\n",
    "    img = getScreenShot((0,0,1920,1080))\n",
    "    speed = getSpeed(img)\n",
    "    if(keyboard.is_pressed('F6')):\n",
    "        active = False\n",
    "    \n",
    "    if(keyboard.is_pressed('F7')):\n",
    "        keepspeed = not keepspeed\n",
    "        drawText(1800,300,f'keepspeed = {keepspeed}')\n",
    "        sleep(0.5)\n",
    "    \n",
    "    if(keyboard.is_pressed('+')):\n",
    "        keepspeed_max += 1\n",
    "        drawText(1700,300,f'keepspeed_max = {keepspeed_max}')\n",
    "        sleep(0.2)\n",
    "        \n",
    "    if(keyboard.is_pressed('-')):\n",
    "        keepspeed_max += -1\n",
    "        drawText(1700,300,f'keepspeed_max = {keepspeed_max}')\n",
    "        sleep(0.2)\n",
    "        \n",
    "    if speed != '   ':\n",
    "        if(int(speed) < keepspeed_max and keepspeed):\n",
    "            dv = keepspeed_max-int(speed)\n",
    "            PressKey(keyCodes['W'])\n",
    "            sleep(0.15*dv)\n",
    "            ReleaseKey(keyCodes['W'])\n",
    "            drawText(1800,350,'FORWARD')\n",
    "\n",
    "            \n",
    "#     drawText(1800,300,str(speed))\n",
    "    sleep(0.0125)\n",
    "    "
   ]
  },
  {
   "cell_type": "code",
   "execution_count": 22,
   "metadata": {},
   "outputs": [
    {
     "ename": "ValueError",
     "evalue": "sleep length must be non-negative",
     "output_type": "error",
     "traceback": [
      "\u001b[1;31m---------------------------------------------------------------------------\u001b[0m",
      "\u001b[1;31mValueError\u001b[0m                                Traceback (most recent call last)",
      "\u001b[1;32m<ipython-input-22-fded1f905d83>\u001b[0m in \u001b[0;36m<module>\u001b[1;34m()\u001b[0m\n\u001b[1;32m----> 1\u001b[1;33m \u001b[0msleep\u001b[0m\u001b[1;33m(\u001b[0m\u001b[1;33m-\u001b[0m\u001b[1;36m1\u001b[0m\u001b[1;33m)\u001b[0m\u001b[1;33m\u001b[0m\u001b[0m\n\u001b[0m",
      "\u001b[1;31mValueError\u001b[0m: sleep length must be non-negative"
     ]
    }
   ],
   "source": [
    "sleep(-1)"
   ]
  }
 ],
 "metadata": {
  "kernelspec": {
   "display_name": "Python 3",
   "language": "python",
   "name": "python3"
  },
  "language_info": {
   "codemirror_mode": {
    "name": "ipython",
    "version": 3
   },
   "file_extension": ".py",
   "mimetype": "text/x-python",
   "name": "python",
   "nbconvert_exporter": "python",
   "pygments_lexer": "ipython3",
   "version": "3.6.3"
  }
 },
 "nbformat": 4,
 "nbformat_minor": 2
}
