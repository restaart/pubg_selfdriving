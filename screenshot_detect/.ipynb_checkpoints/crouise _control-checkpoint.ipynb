{
 "cells": [
  {
   "cell_type": "code",
   "execution_count": 12,
   "metadata": {},
   "outputs": [
    {
     "name": "stdout",
     "output_type": "stream",
     "text": [
      "Collecting keyboard\n",
      "  Downloading https://files.pythonhosted.org/packages/8d/14/b7a8f46e750b5905b099f0ae164a00bc99fe2a3029b4d54ae978797d2c15/keyboard-0.13.3-py2.py3-none-any.whl (58kB)\n",
      "Installing collected packages: keyboard\n",
      "Successfully installed keyboard-0.13.3\n"
     ]
    },
    {
     "name": "stderr",
     "output_type": "stream",
     "text": [
      "You are using pip version 19.0.3, however version 19.1.1 is available.\n",
      "You should consider upgrading via the 'python -m pip install --upgrade pip' command.\n"
     ]
    }
   ],
   "source": [
    "!pip install keyboard"
   ]
  },
  {
   "cell_type": "code",
   "execution_count": 27,
   "metadata": {
    "collapsed": true
   },
   "outputs": [],
   "source": [
    "import numpy as np\n",
    "from PIL import ImageGrab\n",
    "import cv2\n",
    "import win32gui\n",
    "from digit_detector import digit_detector\n",
    "from time import sleep\n",
    "import keyboard\n",
    "from direct_input import keyCodes,PressKey,ReleaseKey\n",
    "import threading\n",
    "import time\n",
    "import matplotlib.pyplot as plt\n"
   ]
  },
  {
   "cell_type": "code",
   "execution_count": 66,
   "metadata": {},
   "outputs": [],
   "source": [
    "class KeyThread(threading.Thread):\n",
    "    def __init__(self, keyCode,period,duty):\n",
    "        super().__init__()\n",
    "        self.keyCode = keyCode\n",
    "        self.period = period\n",
    "        self.duty = duty\n",
    "        self.enabled = False\n",
    "        self.active = True\n",
    "        self.isDown = False\n",
    "        self.recorded = []\n",
    "        \n",
    "    def set_enabled(self):\n",
    "        if not self.enabled : \n",
    "            self.enabled = True\n",
    "            self.isDown = True\n",
    "            self.lastDownTime = time.time()\n",
    "            PressKey(self.keyCode)\n",
    "    def set_duty(self,duty):\n",
    "        self.duty = duty\n",
    "        if duty == 1:\n",
    "            PressKey(self.keyCode)\n",
    "            self.isDown = True\n",
    "        elif duty == 0:\n",
    "            ReleaseKey(self.keyCode)\n",
    "            self.isDown = False\n",
    "        else:\n",
    "            PressKey(self.keyCode)\n",
    "            self.isDown = True\n",
    "            self.lastDownTime = time.time()\n",
    "               \n",
    "        \n",
    "    def run(self):\n",
    "        while(self.active):\n",
    "            if(self.enabled):\n",
    "                if 0<self.duty<1 : \n",
    "                    if self.isDown:\n",
    "                        if  time.time()  > (self.lastDownTime + self.period*self.duty) :\n",
    "                            ReleaseKey(self.keyCode)\n",
    "                            self.isDown = False\n",
    "                    else:\n",
    "                        if  time.time()  > (self.lastDownTime + self.period):\n",
    "                            PressKey(self.keyCode)\n",
    "                            self.isDown = True\n",
    "                            self.lastDownTime = time.time()\n",
    "\n",
    "class KeyWatchThread(threading.Thread):\n",
    "    def __init__(self, key):\n",
    "        super().__init__()\n",
    "        self.key = key\n",
    "        self.recordedData = []\n",
    "        self.active = True\n",
    "        \n",
    "    def run(self):\n",
    "        while(self.active):\n",
    "            self.recordedData.append((keyboard.is_pressed(self.key),time.time()))"
   ]
  },
  {
   "cell_type": "code",
   "execution_count": 98,
   "metadata": {},
   "outputs": [
    {
     "data": {
      "image/png": "[encoded data removed]",
      "text/plain": [
       "<matplotlib.figure.Figure at 0x1b1182f4978>"
      ]
     },
     "metadata": {},
     "output_type": "display_data"
    },
    {
     "data": {
      "text/plain": [
       "0.017499999999999998"
      ]
     },
     "execution_count": 98,
     "metadata": {},
     "output_type": "execute_result"
    }
   ],
   "source": [
    "class PID():\n",
    "    def __init__(self,p,i,d,target):\n",
    "        self.p = p\n",
    "        self.i = i\n",
    "        self.d = d\n",
    "        self.target = target\n",
    "        self.lastError = 0\n",
    "        self.intError = 0\n",
    "        \n",
    "    def control(self,value):\n",
    "        error = self.target - value\n",
    "        derror = error - self.lastError\n",
    "        self.lastError = error\n",
    "        self.intError = error\n",
    "        \n",
    "        return error*self.p + derror*self.d + self.intError*self.i\n",
    "    \n",
    "        \n",
    "pid = PID(0.5,0.1,0.1,40)\n",
    "value = 0\n",
    "values = []\n",
    "for i in range(100):\n",
    "    dv = pid.control(value)\n",
    "    value += dv/40\n",
    "    values.append(value)\n",
    "    \n",
    "plt.plot(values)\n",
    "plt.show()\n",
    "\n",
    "values[0]/40"
   ]
  },
  {
   "cell_type": "code",
   "execution_count": 75,
   "metadata": {},
   "outputs": [],
   "source": [
    "kt = KeyThread(keyCodes['W'], period=0.1,duty=0.1)\n",
    "kwt = KeyWatchThread('w')\n",
    "kt.start()\n",
    "kwt.start()\n",
    "kt.set_enabled()\n",
    "\n",
    "sleep(2)\n",
    "kt.set_duty(1)\n",
    "sleep(2)\n",
    "kt.set_duty(0)\n",
    "sleep(1)\n",
    "kt.set_duty(0.5)\n",
    "sleep(1)\n",
    "\n",
    "kt.active = False\n",
    "kwt.active = False\n",
    "kt.join()\n",
    "kwt.join()\n",
    "\n"
   ]
  },
  {
   "cell_type": "code",
   "execution_count": 76,
   "metadata": {},
   "outputs": [
    {
     "data": {
      "image/png": "[encoded data removed]",
      "text/plain": [
       "<matplotlib.figure.Figure at 0x1b1097e6d68>"
      ]
     },
     "metadata": {},
     "output_type": "display_data"
    }
   ],
   "source": [
    "data = np.array(kwt.recordedData)\n",
    "plt.plot(data[:,1],data[:,0])\n",
    "plt.show()"
   ]
  },
  {
   "cell_type": "code",
   "execution_count": 77,
   "metadata": {
    "collapsed": true
   },
   "outputs": [],
   "source": [
    "def drawText(tx,ty,text):\n",
    "    hdc=win32gui.GetDC(0)\n",
    "    hwnd=win32gui.WindowFromPoint((0,0))\n",
    "    win32gui.DrawText(hdc,text, -1, (tx,ty,tx+200,ty+200),0)\n",
    "    win32gui.ReleaseDC(hwnd,hdc)\n",
    "    \n",
    "def drawLine(coords):\n",
    "    hdc=win32gui.GetDC(0)\n",
    "    hwnd=win32gui.WindowFromPoint((0,0))\n",
    "    win32gui.MoveToEx(hdc,coords[0],coords[1])\n",
    "    win32gui.LineTo(hdc,coords[2],coords[3])\n",
    "    win32gui.ReleaseDC(hwnd,hdc)\n",
    "\n",
    "def getScreenShot(bbox):\n",
    "    return np.array(ImageGrab.grab(bbox))\n",
    "\n",
    "def getSpeedShot(img):\n",
    "    return (img[987:1019,150:205].mean(axis =2) > 240).astype(np.int8)\n",
    "\n",
    "def getMapShot(img):\n",
    "    return img[795:1051,1627:1883]\n",
    "\n",
    "def getSpeedDigits(full_img):\n",
    "    img = (full_img[987:1019,150:205].mean(axis =2) > 240).astype(np.int8)\n",
    "    return [img[:,:16],img[:,17:33],img[:,35:51]]\n",
    "\n",
    "def getSpeed(full_img):\n",
    "    \n",
    "    return (\"\".join(digit_detector.predict(np.array([d.flatten() for d in getSpeedDigits(full_img)]))))\n",
    "\n"
   ]
  },
  {
   "cell_type": "code",
   "execution_count": 28,
   "metadata": {
    "collapsed": true
   },
   "outputs": [],
   "source": [
    "def roi(img, vertices):\n",
    "    #blank mask:\n",
    "    mask = np.zeros_like(img)\n",
    "    # fill the mask\n",
    "    cv2.fillPoly(mask, vertices, 255)\n",
    "    # now only show the area that is the mask\n",
    "    masked = cv2.bitwise_and(img, mask)\n",
    "    return masked\n",
    "\n",
    "def erase_region(img,vertices):\n",
    "    #blank mask:\n",
    "    mask = np.zeros_like(img)\n",
    "    mask = mask + 255\n",
    "    # fill the mask\n",
    "    cv2.fillPoly(mask, vertices, 0)\n",
    "    # now only show the area that is the mask\n",
    "    masked = cv2.bitwise_and(img, mask)\n",
    "    return masked\n",
    "    \n",
    "\n",
    "def draw_lines(img,lines):\n",
    "    for line in lines:\n",
    "        coords = line[0]\n",
    "        cv2.line(img, (coords[0], coords[1]), (coords[2], coords[3]), [255,255,255], 3)\n",
    "\n",
    "def process_img(image):\n",
    "\n",
    "    image = cv2.bilateralFilter(image,5,75,75)\n",
    " \n",
    "    processed_img =  cv2.Canny(image, threshold1 = 100, threshold2=100)\n",
    "    \n",
    "    h,w = image.shape[:2]\n",
    "    \n",
    "    vertices = np.array([[0,h*800/1080],\n",
    "                         [w*750/1920,h*300/1080],\n",
    "                         [w*1200/1920,h*300/1080],\n",
    "                         [w*1600/1920,h*800/1080],\n",
    "                         [w*1600/1920,h],\n",
    "                         [0,h]], np.int32)\n",
    "    \n",
    "    car = np.array([[w*500/1920,h],[750,550],[1250,550],[1250,h]],np.int32)\n",
    "    \n",
    "    gui = np.array([[0,900],[300,900],[300,1080],[0,1080]],np.int32)\n",
    "    \n",
    "    processed_img = roi(processed_img, [vertices])\n",
    "    processed_img = erase_region(processed_img, [car])\n",
    "    processed_img = erase_region(processed_img,[gui] )\n",
    "    \n",
    "    lines = cv2.HoughLinesP(processed_img, 5, np.pi/180, 180,      20,         2)\n",
    "    \n",
    "    processed_img = np.zeros_like(processed_img)\n",
    "    \n",
    "    draw_lines(processed_img,lines)\n",
    "    \n",
    "    lines = cv2.HoughLinesP(processed_img, 2, np.pi/180, 180,      20,         15)\n",
    "     \n",
    "    processed_img = np.zeros_like(processed_img)\n",
    "    \n",
    "    draw_lines(processed_img,lines)\n",
    "    \n",
    "    return processed_img,lines"
   ]
  },
  {
   "cell_type": "code",
   "execution_count": 167,
   "metadata": {},
   "outputs": [],
   "source": [
    "active = True\n",
    "keepspeed = False\n",
    "\n",
    "keepspeed_max = 40\n",
    "\n",
    "trottle = False\n",
    "keycontrol = KeyThread(keyCodes['W'],0.1,0.5)\n",
    "keycontrol.set_duty(0)\n",
    "pid = PID(0.5,0.0,0.8,keepspeed_max)\n",
    "\n",
    "def clamp(n, smallest, largest):\n",
    "    return max(smallest, min(n, largest))\n",
    "\n",
    "speedrec = []\n",
    "keycontrol.start()\n",
    "while(active):\n",
    "    img = getScreenShot((0,0,1920,1080))\n",
    "    speed = getSpeed(img)\n",
    "    if(keyboard.is_pressed('F6')):\n",
    "        active = False\n",
    "    \n",
    "    if(keyboard.is_pressed('F7')):\n",
    "        keepspeed = not keepspeed\n",
    "        keycontrol.set_enabled()\n",
    "        drawText(1800,300,f'keepspeed = {keepspeed}')\n",
    "        sleep(0.5)\n",
    "    \n",
    "    if(keyboard.is_pressed('+')):\n",
    "        keepspeed_max += 1\n",
    "        drawText(1700,300,f'keepspeed_max = {keepspeed_max}')\n",
    "        sleep(0.2)\n",
    "        \n",
    "    if(keyboard.is_pressed('-')):\n",
    "        keepspeed_max += -1\n",
    "        drawText(1700,300,f'keepspeed_max = {keepspeed_max}')\n",
    "        sleep(0.2)\n",
    "        \n",
    "    if speed != '   ' and keepspeed:\n",
    "        speed = float(speed)\n",
    "        pid.target = keepspeed_max\n",
    "        control = pid.control(speed)/pid.target\n",
    "       \n",
    "        duty = clamp(keycontrol.duty + control,0,1)\n",
    "        \n",
    "        speedrec.append(duty)\n",
    "        keycontrol.set_duty(duty)\n",
    "        \n",
    "    if not keepspeed:\n",
    "        keycontrol.set_duty(0)\n",
    "\n",
    "keycontrol.set_duty(0)\n",
    "keycontrol.active = False\n",
    "keycontrol.join()\n",
    "\n",
    "    "
   ]
  },
  {
   "cell_type": "code",
   "execution_count": 168,
   "metadata": {},
   "outputs": [
    {
     "data": {
      "image/png": "[encoded data removed]",
      "text/plain": [
       "<matplotlib.figure.Figure at 0x1b117e028d0>"
      ]
     },
     "metadata": {},
     "output_type": "display_data"
    }
   ],
   "source": [
    "plt.plot(speedrec)\n",
    "plt.show()"
   ]
  },
  {
   "cell_type": "code",
   "execution_count": 11,
   "metadata": {},
   "outputs": [
    {
     "name": "stdout",
     "output_type": "stream",
     "text": [
      "107 µs ± 926 ns per loop (mean ± std. dev. of 7 runs, 10000 loops each)\n"
     ]
    }
   ],
   "source": []
  }
 ],
 "metadata": {
  "kernelspec": {
   "display_name": "Python 3",
   "language": "python",
   "name": "python3"
  },
  "language_info": {
   "codemirror_mode": {
    "name": "ipython",
    "version": 3
   },
   "file_extension": ".py",
   "mimetype": "text/x-python",
   "name": "python",
   "nbconvert_exporter": "python",
   "pygments_lexer": "ipython3",
   "version": "3.6.3"
  }
 },
 "nbformat": 4,
 "nbformat_minor": 2
}
