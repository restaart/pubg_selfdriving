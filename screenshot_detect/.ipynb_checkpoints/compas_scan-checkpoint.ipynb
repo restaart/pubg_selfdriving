{
 "cells": [
  {
   "cell_type": "code",
   "execution_count": 1,
   "metadata": {
    "collapsed": true
   },
   "outputs": [],
   "source": [
    "import numpy as np\n",
    "import cv2\n",
    "import matplotlib.pyplot as plt\n",
    "import os\n",
    "from time import sleep\n",
    "from sklearn.cluster import DBSCAN\n",
    "from sklearn.cluster import KMeans\n",
    "from sklearn.cluster import OPTICS\n",
    "from sklearn.linear_model import LogisticRegression\n",
    "import direct_input"
   ]
  },
  {
   "cell_type": "code",
   "execution_count": 2,
   "metadata": {
    "collapsed": true
   },
   "outputs": [],
   "source": [
    "def get_azimut_image(img):\n",
    "    return img[57:73,945:975]\n",
    "    \n",
    "def get_azimut_digits(azimut_img,two_digit=False):\n",
    "    if two_digit:\n",
    "        return [(azimut_img[:,5:25][:,i*10:i*10+10][:,:,[0,1,2]].mean(axis=2)) for i in range(2)]\n",
    "    else:\n",
    "        return [(azimut_img[:,i*10:i*10+10][:,:,[0,1,2]].mean(axis=2)) for i in range(3)]\n",
    "\n",
    "def getScreenShot(bbox):\n",
    "    return np.array(ImageGrab.grab(bbox))\n",
    "\n",
    "def roun_to_base(x, base=5):\n",
    "    return base * round(x/base)"
   ]
  },
  {
   "cell_type": "code",
   "execution_count": 24,
   "metadata": {},
   "outputs": [
    {
     "data": {
      "text/plain": [
       "1562787756"
      ]
     },
     "execution_count": 24,
     "metadata": {},
     "output_type": "execute_result"
    }
   ],
   "source": []
  },
  {
   "cell_type": "code",
   "execution_count": 28,
   "metadata": {
    "collapsed": true
   },
   "outputs": [],
   "source": [
    "from PIL import ImageGrab\n",
    "import keyboard\n",
    "\n",
    "path = \"compas_shots\\\\\"\n",
    "\n",
    "while(not keyboard.is_pressed('F7')):\n",
    "    pass\n",
    "\n",
    "for angle in range(0,180):    \n",
    "    img = getScreenShot((0,0,1920,1080))\n",
    "    img = img[20:73,910:1010]\n",
    "    plt.imsave(path + f\"compas_{angle*2}_{int(time.time())}.jpg\",img)\n",
    "    direct_input.mouse_move(45,0)\n",
    "    sleep(0.1)"
   ]
  },
  {
   "cell_type": "code",
   "execution_count": 3,
   "metadata": {
    "collapsed": true
   },
   "outputs": [],
   "source": [
    "image_files = [\"compas_shots\\\\\" + fname for fname in os.listdir('compas_shots') if fname[-4:]=='.jpg']"
   ]
  },
  {
   "cell_type": "code",
   "execution_count": 4,
   "metadata": {},
   "outputs": [
    {
     "name": "stdout",
     "output_type": "stream",
     "text": [
      "compas_shots\\compas_280_1562788107.jpg\n",
      "(5, 46, 4)\n"
     ]
    },
    {
     "data": {
      "image/png": "[encoded data removed]",
      "text/plain": [
       "<Figure size 432x288 with 1 Axes>"
      ]
     },
     "metadata": {},
     "output_type": "display_data"
    }
   ],
   "source": [
    "def get_azimuth_from_shot(img):\n",
    "    return  img[37:,35:65]\n",
    "\n",
    "def get_azimuth_from_shot_line(img):\n",
    "    return  img[25:30,50:96]\n",
    "\n",
    "i = 400\n",
    "print(image_files[i])\n",
    "img = plt.imread(image_files[i])\n",
    "azimuth_img = get_azimuth_from_shot_line(img)\n",
    "print(azimuth_img.shape)\n",
    "plt.imshow(azimuth_img)\n",
    "plt.show()"
   ]
  },
  {
   "cell_type": "code",
   "execution_count": 216,
   "metadata": {},
   "outputs": [
    {
     "data": {
      "text/plain": [
       "['1', '0']"
      ]
     },
     "execution_count": 216,
     "metadata": {},
     "output_type": "execute_result"
    }
   ],
   "source": []
  },
  {
   "cell_type": "code",
   "execution_count": 302,
   "metadata": {},
   "outputs": [
    {
     "data": {
      "image/png": "[encoded data removed]",
      "text/plain": [
       "<Figure size 432x288 with 1 Axes>"
      ]
     },
     "metadata": {},
     "output_type": "display_data"
    },
    {
     "data": {
      "image/png": "[encoded data removed]",
      "text/plain": [
       "<Figure size 432x288 with 1 Axes>"
      ]
     },
     "metadata": {},
     "output_type": "display_data"
    },
    {
     "data": {
      "image/png": "[encoded data removed]",
      "text/plain": [
       "<Figure size 432x288 with 1 Axes>"
      ]
     },
     "metadata": {},
     "output_type": "display_data"
    }
   ],
   "source": [
    "asimut_digits = get_azimut_digits(azimuth_img)\n",
    "for digit in asimut_digits:\n",
    "    plt.imshow(preprocess(digit*10))\n",
    "    plt.show()"
   ]
  },
  {
   "cell_type": "code",
   "execution_count": 7,
   "metadata": {},
   "outputs": [],
   "source": [
    "X = []\n",
    "true_digits = []\n",
    "came_from_file = []\n",
    "\n",
    "replace_vals = dict(zip(['0','45','90','135','180','225','270','315','360'],['N','NE','E','SE','S','SW','W','NW','N']))\n",
    "\n",
    "for file in image_files:\n",
    "    img = plt.imread(file)\n",
    "    str_digits = (str(roun_to_base(int(file.split('compas_')[2].split('_')[0]))))\n",
    "    \n",
    "    if str_digits in replace_vals:\n",
    "        str_digits = replace_vals[str_digits]\n",
    "    \n",
    "    if(len(str_digits) == 1):\n",
    "        str_digits = ' '+str_digits+' '\n",
    "        true_digits +=  list(str_digits)\n",
    "    elif(len(str_digits) == 2):\n",
    "        true_digits += ['two-digit']*3\n",
    "    else:\n",
    "        true_digits += list(str_digits)     \n",
    "    came_from_file += [file]*3    \n",
    "    X = X + [preprocess(digit) for digit in get_azimut_digits(get_azimuth_from_shot(img))]    \n",
    "X = np.array(X)\n",
    "true_digits = np.array(true_digits)\n",
    "came_from_file = np.array(came_from_file)\n"
   ]
  },
  {
   "cell_type": "code",
   "execution_count": 8,
   "metadata": {},
   "outputs": [
    {
     "name": "stderr",
     "output_type": "stream",
     "text": [
      "D:\\Programs\\anaconda3\\lib\\site-packages\\sklearn\\linear_model\\logistic.py:432: FutureWarning: Default solver will be changed to 'lbfgs' in 0.22. Specify a solver to silence this warning.\n",
      "  FutureWarning)\n",
      "D:\\Programs\\anaconda3\\lib\\site-packages\\sklearn\\linear_model\\logistic.py:469: FutureWarning: Default multi_class will be changed to 'auto' in 0.22. Specify the multi_class option to silence this warning.\n",
      "  \"this warning.\", FutureWarning)\n"
     ]
    },
    {
     "data": {
      "text/plain": [
       "1.0"
      ]
     },
     "execution_count": 8,
     "metadata": {},
     "output_type": "execute_result"
    }
   ],
   "source": [
    "clf = LogisticRegression(C=20,penalty='l2')\n",
    "clf.fit(X,true_digits)\n",
    "clf.score(X,true_digits)"
   ]
  },
  {
   "cell_type": "code",
   "execution_count": 6,
   "metadata": {
    "collapsed": true
   },
   "outputs": [],
   "source": [
    "def preprocess(img):\n",
    "    if img.max()>1:\n",
    "        return (img/255).flatten()\n",
    "    else:\n",
    "        return img.flatten()\n",
    "\n",
    "def azimuth_from_image(img):\n",
    "    digits = [preprocess(digit) for digit in get_azimut_digits(img)]\n",
    "    preds = clf.predict(digits)\n",
    "    if 'two-digit' in preds:\n",
    "        preds = clf.predict([preprocess(digit) for digit in get_azimut_digits(img,two_digit=True)])\n",
    "    replace_vals = dict(zip([' N ','NE',' E ','SE',' S ','SW',' W ','NW',' N '],\n",
    "                            ['0','45','90','135','180','225','270','315','360']))\n",
    "    pred = ''.join(preds)\n",
    "    if pred in replace_vals:\n",
    "        pred = replace_vals[pred]\n",
    "    return int(pred)\n",
    "    \n",
    "    "
   ]
  },
  {
   "cell_type": "code",
   "execution_count": 9,
   "metadata": {},
   "outputs": [
    {
     "data": {
      "image/png": "[encoded data removed]",
      "text/plain": [
       "<Figure size 432x288 with 1 Axes>"
      ]
     },
     "metadata": {},
     "output_type": "display_data"
    },
    {
     "name": "stdout",
     "output_type": "stream",
     "text": [
      "135\n"
     ]
    }
   ],
   "source": [
    "full_img_files = ['data\\\\' + x for x in os.listdir('data')]\n",
    "img = plt.imread(full_img_files[48])\n",
    "img = get_azimut_image(img)\n",
    "plt.imshow(img)\n",
    "plt.show()\n",
    "print(azimuth_from_image(img))"
   ]
  },
  {
   "cell_type": "code",
   "execution_count": 450,
   "metadata": {},
   "outputs": [
    {
     "name": "stdout",
     "output_type": "stream",
     "text": [
      "429 µs ± 6.59 µs per loop (mean ± std. dev. of 7 runs, 1000 loops each)\n"
     ]
    }
   ],
   "source": [
    "%%timeit\n",
    "azimuth_from_image(img)"
   ]
  },
  {
   "cell_type": "code",
   "execution_count": 45,
   "metadata": {},
   "outputs": [
    {
     "data": {
      "text/plain": [
       "\"'5\""
      ]
     },
     "execution_count": 45,
     "metadata": {},
     "output_type": "execute_result"
    }
   ],
   "source": []
  },
  {
   "cell_type": "code",
   "execution_count": 46,
   "metadata": {},
   "outputs": [
    {
     "data": {
      "image/png": "[encoded data removed]",
      "text/plain": [
       "<Figure size 720x720 with 16 Axes>"
      ]
     },
     "metadata": {},
     "output_type": "display_data"
    }
   ],
   "source": [
    "f,a  = plt.subplots(ncols=5,nrows=5,figsize=(10,10))\n",
    "\n",
    "for ax,coef,title in zip(a.flatten()[:len(clf.classes_)],clf.coef_,clf.classes_):\n",
    "    ax.imshow(coef.reshape(16,10))\n",
    "    ax.set_title(\"'\" + title + \"'\")\n",
    "    \n",
    "for ax in a.flatten()[len(clf.classes_):]:\n",
    "    ax.remove()\n",
    "    \n",
    "plt.tight_layout()   \n",
    "plt.show()"
   ]
  },
  {
   "cell_type": "code",
   "execution_count": 156,
   "metadata": {},
   "outputs": [
    {
     "name": "stdout",
     "output_type": "stream",
     "text": [
      "0.4285417144128743\n",
      " \n"
     ]
    },
    {
     "data": {
      "image/png": "[encoded data removed]",
      "text/plain": [
       "<Figure size 432x288 with 1 Axes>"
      ]
     },
     "metadata": {},
     "output_type": "display_data"
    }
   ],
   "source": [
    "a = np.zeros((16*10))\n",
    "# a = clf.coef_[2].copy() - clf.intercept_[2]\n",
    "# a =  - clf.intercept_[10] / clf.coef_[10]\n",
    "a =   -clf.coef_[5]/clf.intercept_[5] \n",
    "a = a.reshape(16,10)\n",
    "\n",
    "\n",
    "pr = clf.predict_proba([a.flatten()])\n",
    "print(pr.max())\n",
    "print(clf.classes_[pr.argmax()])\n",
    "plt.imshow(a)\n",
    "plt.show()"
   ]
  },
  {
   "cell_type": "code",
   "execution_count": 157,
   "metadata": {},
   "outputs": [
    {
     "data": {
      "text/plain": [
       "array([4.28541714e-01, 5.12607467e-04, 3.00600312e-04, 4.40523054e-03,\n",
       "       2.09868486e-04, 4.28541321e-01, 1.81304637e-03, 2.08579159e-02,\n",
       "       2.00058741e-02, 5.65512574e-02, 7.88777821e-03, 2.99595046e-03,\n",
       "       3.71676851e-03, 1.60857800e-03, 2.20504182e-02, 1.07019861e-06])"
      ]
     },
     "execution_count": 157,
     "metadata": {},
     "output_type": "execute_result"
    }
   ],
   "source": [
    "pr[0]"
   ]
  },
  {
   "cell_type": "code",
   "execution_count": 177,
   "metadata": {},
   "outputs": [
    {
     "data": {
      "text/plain": [
       "13.53439769482704"
      ]
     },
     "execution_count": 177,
     "metadata": {},
     "output_type": "execute_result"
    }
   ],
   "source": [
    "np.dot( clf.coef_[5],a.flatten()) + clf.intercept_[2]"
   ]
  }
 ],
 "metadata": {
  "kernelspec": {
   "display_name": "Python 3",
   "language": "python",
   "name": "python3"
  },
  "language_info": {
   "codemirror_mode": {
    "name": "ipython",
    "version": 3
   },
   "file_extension": ".py",
   "mimetype": "text/x-python",
   "name": "python",
   "nbconvert_exporter": "python",
   "pygments_lexer": "ipython3",
   "version": "3.6.3"
  }
 },
 "nbformat": 4,
 "nbformat_minor": 2
}
