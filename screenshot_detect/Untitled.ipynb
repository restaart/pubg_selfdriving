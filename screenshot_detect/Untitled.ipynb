{
 "cells": [
  {
   "cell_type": "code",
   "execution_count": 12,
   "metadata": {},
   "outputs": [
    {
     "name": "stdout",
     "output_type": "stream",
     "text": [
      "Collecting keyboard\n",
      "  Downloading https://files.pythonhosted.org/packages/8d/14/b7a8f46e750b5905b099f0ae164a00bc99fe2a3029b4d54ae978797d2c15/keyboard-0.13.3-py2.py3-none-any.whl (58kB)\n",
      "Installing collected packages: keyboard\n",
      "Successfully installed keyboard-0.13.3\n"
     ]
    },
    {
     "name": "stderr",
     "output_type": "stream",
     "text": [
      "You are using pip version 19.0.3, however version 19.1.1 is available.\n",
      "You should consider upgrading via the 'python -m pip install --upgrade pip' command.\n"
     ]
    }
   ],
   "source": [
    "!pip install keyboard"
   ]
  },
  {
   "cell_type": "code",
   "execution_count": 2,
   "metadata": {
    "collapsed": true
   },
   "outputs": [],
   "source": [
    "import numpy as np\n",
    "from PIL import ImageGrab\n",
    "import cv2\n",
    "import win32gui\n",
    "from digit_detector import digit_detector\n",
    "from time import sleep\n",
    "import keyboard\n",
    "from direct_input import keyCodes,PressKey,ReleaseKey"
   ]
  },
  {
   "cell_type": "code",
   "execution_count": 27,
   "metadata": {
    "collapsed": true
   },
   "outputs": [],
   "source": [
    "def drawText(tx,ty,text):\n",
    "    hdc=win32gui.GetDC(0)\n",
    "    hwnd=win32gui.WindowFromPoint((0,0))\n",
    "    win32gui.DrawText(hdc,text, -1, (tx,ty,tx+200,ty+200),0)\n",
    "    win32gui.ReleaseDC(hwnd,hdc)\n",
    "    \n",
    "def drawLine(coords):\n",
    "    hdc=win32gui.GetDC(0)\n",
    "    hwnd=win32gui.WindowFromPoint((0,0))\n",
    "    win32gui.MoveToEx(hdc,coords[0],coords[1])\n",
    "    win32gui.LineTo(hdc,coords[2],coords[3])\n",
    "    win32gui.ReleaseDC(hwnd,hdc)\n",
    "\n",
    "def getScreenShot(bbox):\n",
    "    return np.array(ImageGrab.grab(bbox))\n",
    "\n",
    "def getSpeedShot(img):\n",
    "    return (img[987:1019,150:205].mean(axis =2) > 240).astype(np.int8)\n",
    "\n",
    "def getMapShot(img):\n",
    "    return img[795:1051,1627:1883]\n",
    "\n",
    "def getSpeedDigits(full_img):\n",
    "    img = (full_img[987:1019,150:205].mean(axis =2) > 240).astype(np.int8)\n",
    "    return [img[:,:16],img[:,17:33],img[:,35:51]]\n",
    "\n",
    "def getSpeed(full_img):\n",
    "    \n",
    "    return (\"\".join(digit_detector.predict(np.array([d.flatten() for d in getSpeedDigits(full_img)]))))\n",
    "\n"
   ]
  },
  {
   "cell_type": "code",
   "execution_count": 28,
   "metadata": {
    "collapsed": true
   },
   "outputs": [],
   "source": [
    "def roi(img, vertices):\n",
    "    #blank mask:\n",
    "    mask = np.zeros_like(img)\n",
    "    # fill the mask\n",
    "    cv2.fillPoly(mask, vertices, 255)\n",
    "    # now only show the area that is the mask\n",
    "    masked = cv2.bitwise_and(img, mask)\n",
    "    return masked\n",
    "\n",
    "def erase_region(img,vertices):\n",
    "    #blank mask:\n",
    "    mask = np.zeros_like(img)\n",
    "    mask = mask + 255\n",
    "    # fill the mask\n",
    "    cv2.fillPoly(mask, vertices, 0)\n",
    "    # now only show the area that is the mask\n",
    "    masked = cv2.bitwise_and(img, mask)\n",
    "    return masked\n",
    "    \n",
    "\n",
    "def draw_lines(img,lines):\n",
    "    for line in lines:\n",
    "        coords = line[0]\n",
    "        cv2.line(img, (coords[0], coords[1]), (coords[2], coords[3]), [255,255,255], 3)\n",
    "\n",
    "def process_img(image):\n",
    "\n",
    "    image = cv2.bilateralFilter(image,5,75,75)\n",
    " \n",
    "    processed_img =  cv2.Canny(image, threshold1 = 100, threshold2=100)\n",
    "    \n",
    "    h,w = image.shape[:2]\n",
    "    \n",
    "    vertices = np.array([[0,h*800/1080],\n",
    "                         [w*750/1920,h*300/1080],\n",
    "                         [w*1200/1920,h*300/1080],\n",
    "                         [w*1600/1920,h*800/1080],\n",
    "                         [w*1600/1920,h],\n",
    "                         [0,h]], np.int32)\n",
    "    \n",
    "    car = np.array([[w*500/1920,h],[750,550],[1250,550],[1250,h]],np.int32)\n",
    "    \n",
    "    gui = np.array([[0,900],[300,900],[300,1080],[0,1080]],np.int32)\n",
    "    \n",
    "    processed_img = roi(processed_img, [vertices])\n",
    "    processed_img = erase_region(processed_img, [car])\n",
    "    processed_img = erase_region(processed_img,[gui] )\n",
    "    \n",
    "    lines = cv2.HoughLinesP(processed_img, 5, np.pi/180, 180,      20,         2)\n",
    "    \n",
    "    processed_img = np.zeros_like(processed_img)\n",
    "    \n",
    "    draw_lines(processed_img,lines)\n",
    "    \n",
    "    lines = cv2.HoughLinesP(processed_img, 2, np.pi/180, 180,      20,         15)\n",
    "     \n",
    "    processed_img = np.zeros_like(processed_img)\n",
    "    \n",
    "    draw_lines(processed_img,lines)\n",
    "    \n",
    "    return processed_img,lines"
   ]
  },
  {
   "cell_type": "code",
   "execution_count": 29,
   "metadata": {},
   "outputs": [
    {
     "ename": "KeyboardInterrupt",
     "evalue": "",
     "output_type": "error",
     "traceback": [
      "\u001b[1;31m---------------------------------------------------------------------------\u001b[0m",
      "\u001b[1;31mKeyboardInterrupt\u001b[0m                         Traceback (most recent call last)",
      "\u001b[1;32m<ipython-input-29-05aa50907fca>\u001b[0m in \u001b[0;36m<module>\u001b[1;34m()\u001b[0m\n\u001b[0;32m     39\u001b[0m     \u001b[0mprocessed\u001b[0m\u001b[1;33m,\u001b[0m\u001b[0mlines\u001b[0m \u001b[1;33m=\u001b[0m \u001b[0mprocess_img\u001b[0m\u001b[1;33m(\u001b[0m\u001b[0mimg\u001b[0m\u001b[1;33m)\u001b[0m\u001b[1;33m\u001b[0m\u001b[0m\n\u001b[0;32m     40\u001b[0m     \u001b[1;32mfor\u001b[0m \u001b[0mline\u001b[0m \u001b[1;32min\u001b[0m \u001b[0mlines\u001b[0m\u001b[1;33m[\u001b[0m\u001b[1;33m:\u001b[0m\u001b[1;33m,\u001b[0m\u001b[1;36m0\u001b[0m\u001b[1;33m,\u001b[0m\u001b[1;33m:\u001b[0m\u001b[1;33m]\u001b[0m\u001b[1;33m:\u001b[0m\u001b[1;33m\u001b[0m\u001b[0m\n\u001b[1;32m---> 41\u001b[1;33m         \u001b[0mdrawLine\u001b[0m\u001b[1;33m(\u001b[0m\u001b[0mline\u001b[0m\u001b[1;33m)\u001b[0m\u001b[1;33m\u001b[0m\u001b[0m\n\u001b[0m\u001b[0;32m     42\u001b[0m \u001b[1;33m\u001b[0m\u001b[0m\n\u001b[0;32m     43\u001b[0m     \u001b[0mdrawText\u001b[0m\u001b[1;33m(\u001b[0m\u001b[1;36m1800\u001b[0m\u001b[1;33m,\u001b[0m\u001b[1;36m300\u001b[0m\u001b[1;33m,\u001b[0m\u001b[0mstr\u001b[0m\u001b[1;33m(\u001b[0m\u001b[0mspeed\u001b[0m\u001b[1;33m)\u001b[0m\u001b[1;33m)\u001b[0m\u001b[1;33m\u001b[0m\u001b[0m\n",
      "\u001b[1;32m<ipython-input-27-7407546e351c>\u001b[0m in \u001b[0;36mdrawLine\u001b[1;34m(coords)\u001b[0m\n\u001b[0;32m      9\u001b[0m     \u001b[0mhwnd\u001b[0m\u001b[1;33m=\u001b[0m\u001b[0mwin32gui\u001b[0m\u001b[1;33m.\u001b[0m\u001b[0mWindowFromPoint\u001b[0m\u001b[1;33m(\u001b[0m\u001b[1;33m(\u001b[0m\u001b[1;36m0\u001b[0m\u001b[1;33m,\u001b[0m\u001b[1;36m0\u001b[0m\u001b[1;33m)\u001b[0m\u001b[1;33m)\u001b[0m\u001b[1;33m\u001b[0m\u001b[0m\n\u001b[0;32m     10\u001b[0m     \u001b[0mwin32gui\u001b[0m\u001b[1;33m.\u001b[0m\u001b[0mMoveToEx\u001b[0m\u001b[1;33m(\u001b[0m\u001b[0mhdc\u001b[0m\u001b[1;33m,\u001b[0m\u001b[0mcoords\u001b[0m\u001b[1;33m[\u001b[0m\u001b[1;36m0\u001b[0m\u001b[1;33m]\u001b[0m\u001b[1;33m,\u001b[0m\u001b[0mcoords\u001b[0m\u001b[1;33m[\u001b[0m\u001b[1;36m1\u001b[0m\u001b[1;33m]\u001b[0m\u001b[1;33m)\u001b[0m\u001b[1;33m\u001b[0m\u001b[0m\n\u001b[1;32m---> 11\u001b[1;33m     \u001b[0mwin32gui\u001b[0m\u001b[1;33m.\u001b[0m\u001b[0mLineTo\u001b[0m\u001b[1;33m(\u001b[0m\u001b[0mhdc\u001b[0m\u001b[1;33m,\u001b[0m\u001b[0mcoords\u001b[0m\u001b[1;33m[\u001b[0m\u001b[1;36m2\u001b[0m\u001b[1;33m]\u001b[0m\u001b[1;33m,\u001b[0m\u001b[0mcoords\u001b[0m\u001b[1;33m[\u001b[0m\u001b[1;36m3\u001b[0m\u001b[1;33m]\u001b[0m\u001b[1;33m)\u001b[0m\u001b[1;33m\u001b[0m\u001b[0m\n\u001b[0m\u001b[0;32m     12\u001b[0m     \u001b[0mwin32gui\u001b[0m\u001b[1;33m.\u001b[0m\u001b[0mReleaseDC\u001b[0m\u001b[1;33m(\u001b[0m\u001b[0mhwnd\u001b[0m\u001b[1;33m,\u001b[0m\u001b[0mhdc\u001b[0m\u001b[1;33m)\u001b[0m\u001b[1;33m\u001b[0m\u001b[0m\n\u001b[0;32m     13\u001b[0m \u001b[1;33m\u001b[0m\u001b[0m\n",
      "\u001b[1;31mKeyboardInterrupt\u001b[0m: "
     ]
    }
   ],
   "source": [
    "active = True\n",
    "keepspeed = False\n",
    "\n",
    "keepspeed_max = 40\n",
    "\n",
    "trottle = False\n",
    "\n",
    "while(active):\n",
    "    img = getScreenShot((0,0,1920,1080))\n",
    "    speed = getSpeed(img)\n",
    "    if(keyboard.is_pressed('F6')):\n",
    "        active = False\n",
    "    \n",
    "    if(keyboard.is_pressed('F7')):\n",
    "        keepspeed = not keepspeed\n",
    "        drawText(1800,300,f'keepspeed = {keepspeed}')\n",
    "        sleep(0.5)\n",
    "    \n",
    "    if(keyboard.is_pressed('+')):\n",
    "        keepspeed_max += 1\n",
    "        drawText(1700,300,f'keepspeed_max = {keepspeed_max}')\n",
    "        sleep(0.2)\n",
    "        \n",
    "    if(keyboard.is_pressed('-')):\n",
    "        keepspeed_max += -1\n",
    "        drawText(1700,300,f'keepspeed_max = {keepspeed_max}')\n",
    "        sleep(0.2)\n",
    "        \n",
    "    if speed != '   ':\n",
    "        if(int(speed) < keepspeed_max and keepspeed):\n",
    "            if not trottle:\n",
    "                PressKey(keyCodes['W'])\n",
    "                trottle = True\n",
    "        else:\n",
    "            if trottle:\n",
    "                ReleaseKey(keyCodes['W'])\n",
    "                trottle = False\n",
    "\n",
    "    processed,lines = process_img(img)\n",
    "    for line in lines[:,0,:]:\n",
    "        drawLine(line)\n",
    "        \n",
    "    drawText(1800,300,str(speed))\n",
    "#     sleep(0.0125)\n",
    "    "
   ]
  },
  {
   "cell_type": "code",
   "execution_count": 20,
   "metadata": {},
   "outputs": [
    {
     "data": {
      "text/plain": [
       "array([[ 396, 1041,  396,  534],\n",
       "       [ 499, 1040,  499,  466],\n",
       "       [1334, 1040, 1380, 1040],\n",
       "       [ 380, 1041,  380,  545],\n",
       "       [1508,  966, 1508,  683],\n",
       "       [ 401,  855,  401,  549],\n",
       "       [1499,  952, 1499,  676],\n",
       "       [ 384, 1039,  384,  545],\n",
       "       [1505,  960, 1505,  679],\n",
       "       [1417, 1041, 1433, 1041],\n",
       "       [1520,  956, 1520,  700],\n",
       "       [1335, 1041, 1379, 1041],\n",
       "       [ 828,  545,  865,  545],\n",
       "       [1440, 1040, 1460, 1040],\n",
       "       [ 498, 1041,  498,  467],\n",
       "       [ 502, 1042,  502,  467],\n",
       "       [ 851,  537,  889,  537],\n",
       "       [1333, 1039, 1381, 1039],\n",
       "       [ 398, 1039,  398,  536],\n",
       "       [ 382, 1041,  382,  543],\n",
       "       [ 634,  545,  650,  545],\n",
       "       [ 394, 1039,  394,  544],\n",
       "       [ 736,  545,  765,  545],\n",
       "       [1500,  952, 1504,  682],\n",
       "       [ 321, 1041,  346, 1041],\n",
       "       [ 723,  537,  743,  537],\n",
       "       [ 410, 1039,  433, 1039],\n",
       "       [ 867,  545,  888,  545],\n",
       "       [ 751,  537,  789,  537],\n",
       "       [ 299, 1039,  346, 1039],\n",
       "       [ 634,  543,  650,  543],\n",
       "       [1576,  985, 1599,  985],\n",
       "       [ 767,  545,  788,  545],\n",
       "       [ 821,  537,  843,  537],\n",
       "       [ 728,  423,  743,  423],\n",
       "       [1441, 1041, 1459, 1041],\n",
       "       [ 575,  734,  575,  719],\n",
       "       [ 728,  425,  743,  425],\n",
       "       [ 723,  503,  740,  503],\n",
       "       [ 403,  853,  403,  551],\n",
       "       [ 301, 1041,  318, 1041],\n",
       "       [ 829,  543,  844,  543],\n",
       "       [1540, 1039, 1566, 1039],\n",
       "       [1521,  699, 1523,  845],\n",
       "       [ 402,  854,  402,  550],\n",
       "       [ 500, 1041,  500,  465],\n",
       "       [1334, 1038, 1380, 1038],\n",
       "       [ 674,  536,  691,  536],\n",
       "       [ 397, 1040,  397,  541],\n",
       "       [ 673,  537,  692,  537],\n",
       "       [1502,  952, 1504,  790],\n",
       "       [ 674,  503,  690,  503],\n",
       "       [1441, 1039, 1459, 1039],\n",
       "       [1509,  960, 1509,  684],\n",
       "       [1506,  961, 1506,  680],\n",
       "       [ 727,  424,  744,  424],\n",
       "       [1507, 1039, 1531, 1039],\n",
       "       [1500,  813, 1503,  699],\n",
       "       [ 705,  528,  734,  528],\n",
       "       [ 399,  853,  399,  594],\n",
       "       [1396,  985, 1415,  985],\n",
       "       [ 575,  564,  575,  549],\n",
       "       [1416,  964, 1435,  964],\n",
       "       [1521,  803, 1523,  955],\n",
       "       [ 412, 1041,  431, 1041],\n",
       "       [1394,  979, 1415,  979],\n",
       "       [1418,  987, 1437,  986],\n",
       "       [1390,  975, 1407,  975],\n",
       "       [1506, 1040, 1530, 1040],\n",
       "       [ 411, 1038,  431, 1037],\n",
       "       [ 727,  426,  742,  426],\n",
       "       [1455,  955, 1479,  955],\n",
       "       [1416, 1038, 1434, 1038],\n",
       "       [1415, 1039, 1435, 1039],\n",
       "       [ 536,  456,  551,  456],\n",
       "       [1483, 1039, 1505, 1039],\n",
       "       [1552,  955, 1575,  955],\n",
       "       [1576,  986, 1593,  987],\n",
       "       [1404,  987, 1421,  986],\n",
       "       [1497,  868, 1498,  812],\n",
       "       [ 300, 1078,  333, 1075],\n",
       "       [ 300, 1040,  347, 1040],\n",
       "       [1508, 1038, 1530, 1038],\n",
       "       [1335, 1037, 1366, 1037],\n",
       "       [ 359, 1061,  374, 1060],\n",
       "       [1494,  977, 1514,  977],\n",
       "       [1521,  949, 1521,  860],\n",
       "       [1502,  757, 1502,  796],\n",
       "       [ 300, 1038,  334, 1038],\n",
       "       [1503,  698, 1503,  677]], dtype=int32)"
      ]
     },
     "execution_count": 20,
     "metadata": {},
     "output_type": "execute_result"
    }
   ],
   "source": [
    "lines[:,0,:]"
   ]
  },
  {
   "cell_type": "code",
   "execution_count": 11,
   "metadata": {},
   "outputs": [
    {
     "name": "stdout",
     "output_type": "stream",
     "text": [
      "107 µs ± 926 ns per loop (mean ± std. dev. of 7 runs, 10000 loops each)\n"
     ]
    }
   ],
   "source": [
    "%%timeit\n",
    "drawText(1800,300,str(123))"
   ]
  }
 ],
 "metadata": {
  "kernelspec": {
   "display_name": "Python 3",
   "language": "python",
   "name": "python3"
  },
  "language_info": {
   "codemirror_mode": {
    "name": "ipython",
    "version": 3
   },
   "file_extension": ".py",
   "mimetype": "text/x-python",
   "name": "python",
   "nbconvert_exporter": "python",
   "pygments_lexer": "ipython3",
   "version": "3.6.3"
  }
 },
 "nbformat": 4,
 "nbformat_minor": 2
}
