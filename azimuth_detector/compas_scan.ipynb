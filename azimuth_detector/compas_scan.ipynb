{
 "cells": [
  {
   "cell_type": "code",
   "execution_count": 1,
   "metadata": {
    "collapsed": true
   },
   "outputs": [],
   "source": [
    "import numpy as np\n",
    "import cv2\n",
    "import matplotlib.pyplot as plt\n",
    "import os\n",
    "from time import sleep\n",
    "from sklearn.cluster import DBSCAN\n",
    "from sklearn.cluster import KMeans\n",
    "from sklearn.cluster import OPTICS\n",
    "from sklearn.linear_model import LogisticRegression\n",
    "from sklearn.linear_model import LinearRegression\n",
    "import direct_input"
   ]
  },
  {
   "cell_type": "code",
   "execution_count": 45,
   "metadata": {
    "collapsed": true
   },
   "outputs": [],
   "source": [
    "def get_azimut_image(img):\n",
    "    return img[57:73,945:975]\n",
    "    \n",
    "def get_azimut_digits(azimut_img,two_digit=False):\n",
    "    if two_digit:\n",
    "        return [(azimut_img[:,5:25][:,i*10:i*10+10][:,:,[0,1,2]].mean(axis=2)) for i in range(2)]\n",
    "    else:\n",
    "        return [(azimut_img[:,i*10:i*10+10][:,:,[0,1,2]].mean(axis=2)) for i in range(3)]\n",
    "\n",
    "def getScreenShot(bbox):\n",
    "    return np.array(ImageGrab.grab(bbox))\n",
    "\n",
    "def roun_to_base(x, base=5):\n",
    "    return base * round(x/base)\n",
    "\n",
    "def get_azimut_shot(img):\n",
    "    return img[20:73,910:1010]\n",
    "\n",
    "def get_azimuth_from_shot(img):\n",
    "    return img[37:,35:65]\n",
    "\n",
    "def get_percise_asimut_from_shot(img):\n",
    "    return img[25:30,50:96]\n",
    "    "
   ]
  },
  {
   "cell_type": "code",
   "execution_count": 24,
   "metadata": {},
   "outputs": [
    {
     "data": {
      "text/plain": [
       "1562787756"
      ]
     },
     "execution_count": 24,
     "metadata": {},
     "output_type": "execute_result"
    }
   ],
   "source": []
  },
  {
   "cell_type": "code",
   "execution_count": 28,
   "metadata": {
    "collapsed": true
   },
   "outputs": [],
   "source": [
    "from PIL import ImageGrab\n",
    "import keyboard\n",
    "\n",
    "path = \"compas_shots\\\\\"\n",
    "\n",
    "while(not keyboard.is_pressed('F7')):\n",
    "    pass\n",
    "\n",
    "for angle in range(0,180):    \n",
    "    img = getScreenShot((0,0,1920,1080))\n",
    "    img = img[20:73,910:1010]\n",
    "    plt.imsave(path + f\"compas_{angle*2}_{int(time.time())}.jpg\",img)\n",
    "    direct_input.mouse_move(45,0)\n",
    "    sleep(0.1)"
   ]
  },
  {
   "cell_type": "code",
   "execution_count": 40,
   "metadata": {
    "collapsed": true
   },
   "outputs": [],
   "source": [
    "image_files = [\"compas_shots\\\\\" + fname for fname in os.listdir('compas_shots') if fname[-4:]=='.jpg']"
   ]
  },
  {
   "cell_type": "code",
   "execution_count": 3,
   "metadata": {
    "collapsed": true
   },
   "outputs": [],
   "source": [
    "percise_img_files = [\"compas_shots_precise\\\\\" + fname for fname in os.listdir('compas_shots_precise') if fname[-4:]=='.jpg']\n",
    "percise_imgs = np.array([plt.imread(percise_img_file) for percise_img_file in  percise_img_files])\n",
    "percise_angle = np.array([int(percise_img_file.split('_')[3]) for percise_img_file in percise_img_files])\n"
   ]
  },
  {
   "cell_type": "code",
   "execution_count": 30,
   "metadata": {
    "collapsed": true
   },
   "outputs": [],
   "source": [
    "X = [img[:,:,[0,1,2]].mean(axis=2)[25:30,50:96].flatten() for img in percise_imgs]"
   ]
  },
  {
   "cell_type": "code",
   "execution_count": null,
   "metadata": {
    "collapsed": true
   },
   "outputs": [],
   "source": []
  },
  {
   "cell_type": "code",
   "execution_count": 35,
   "metadata": {},
   "outputs": [
    {
     "name": "stdout",
     "output_type": "stream",
     "text": [
      "Wall time: 1min\n"
     ]
    }
   ],
   "source": [
    "%%time\n",
    "clf_percise_azimuth = LogisticRegression(solver='lbfgs',multi_class='auto',n_jobs=-1,max_iter=500,random_state=42)\n",
    "clf_percise_azimuth.fit(X,percise_angle)"
   ]
  },
  {
   "cell_type": "code",
   "execution_count": 38,
   "metadata": {},
   "outputs": [
    {
     "data": {
      "text/plain": [
       "0.6343461932400136"
      ]
     },
     "execution_count": 38,
     "metadata": {},
     "output_type": "execute_result"
    }
   ],
   "source": [
    "clf_percise_azimuth.score(X,percise_angle)"
   ]
  },
  {
   "cell_type": "code",
   "execution_count": 39,
   "metadata": {},
   "outputs": [
    {
     "data": {
      "text/plain": [
       "0.09627859337657904"
      ]
     },
     "execution_count": 39,
     "metadata": {},
     "output_type": "execute_result"
    }
   ],
   "source": [
    "np.abs(clf_percise_azimuth.predict(X)//22.5 - np.array(percise_angle)//22.5).mean()\n"
   ]
  },
  {
   "cell_type": "code",
   "execution_count": 34,
   "metadata": {},
   "outputs": [
    {
     "data": {
      "text/plain": [
       "0.8900648685558211"
      ]
     },
     "execution_count": 34,
     "metadata": {},
     "output_type": "execute_result"
    }
   ],
   "source": [
    "fail = (clf.predict(X)) != (np.array(percise_angle))\n",
    "1-fail.mean()"
   ]
  },
  {
   "cell_type": "code",
   "execution_count": 302,
   "metadata": {},
   "outputs": [
    {
     "data": {
      "image/png": "[encoded data removed]",
      "text/plain": [
       "<Figure size 432x288 with 1 Axes>"
      ]
     },
     "metadata": {},
     "output_type": "display_data"
    },
    {
     "data": {
      "image/png": "[encoded data removed]",
      "text/plain": [
       "<Figure size 432x288 with 1 Axes>"
      ]
     },
     "metadata": {},
     "output_type": "display_data"
    },
    {
     "data": {
      "image/png": "[encoded data removed]",
      "text/plain": [
       "<Figure size 432x288 with 1 Axes>"
      ]
     },
     "metadata": {},
     "output_type": "display_data"
    }
   ],
   "source": [
    "asimut_digits = get_azimut_digits(azimuth_img)\n",
    "for digit in asimut_digits:\n",
    "    plt.imshow(preprocess(digit*10))\n",
    "    plt.show()"
   ]
  },
  {
   "cell_type": "code",
   "execution_count": 48,
   "metadata": {
    "collapsed": true
   },
   "outputs": [],
   "source": [
    "X = []\n",
    "true_digits = []\n",
    "came_from_file = []\n",
    "\n",
    "replace_vals = dict(zip(['0','45','90','135','180','225','270','315','360'],['N','NE','E','SE','S','SW','W','NW','N']))\n",
    "\n",
    "for file in image_files:\n",
    "    img = plt.imread(file)\n",
    "    str_digits = (str(roun_to_base(int(file.split('compas_')[2].split('_')[0]))))\n",
    "    \n",
    "    if str_digits in replace_vals:\n",
    "        str_digits = replace_vals[str_digits]\n",
    "    \n",
    "    if(len(str_digits) == 1):\n",
    "        str_digits = ' '+str_digits+' '\n",
    "        true_digits +=  list(str_digits)\n",
    "    elif(len(str_digits) == 2):\n",
    "        true_digits += ['two-digit']*3\n",
    "    else:\n",
    "        true_digits += list(str_digits)     \n",
    "    came_from_file += [file]*3    \n",
    "    X = X + [preprocess(digit) for digit in get_azimut_digits(get_azimuth_from_shot(img))]    \n",
    "X = np.array(X)\n",
    "true_digits = np.array(true_digits)\n",
    "came_from_file = np.array(came_from_file)\n"
   ]
  },
  {
   "cell_type": "code",
   "execution_count": 49,
   "metadata": {},
   "outputs": [
    {
     "name": "stderr",
     "output_type": "stream",
     "text": [
      "D:\\Programs\\anaconda3\\lib\\site-packages\\sklearn\\linear_model\\logistic.py:432: FutureWarning: Default solver will be changed to 'lbfgs' in 0.22. Specify a solver to silence this warning.\n",
      "  FutureWarning)\n",
      "D:\\Programs\\anaconda3\\lib\\site-packages\\sklearn\\linear_model\\logistic.py:469: FutureWarning: Default multi_class will be changed to 'auto' in 0.22. Specify the multi_class option to silence this warning.\n",
      "  \"this warning.\", FutureWarning)\n"
     ]
    },
    {
     "data": {
      "text/plain": [
       "1.0"
      ]
     },
     "execution_count": 49,
     "metadata": {},
     "output_type": "execute_result"
    }
   ],
   "source": [
    "clf_azimuth_digits = LogisticRegression(C=20,penalty='l2')\n",
    "clf_azimuth_digits.fit(X,true_digits)\n",
    "clf_azimuth_digits.score(X,true_digits)"
   ]
  },
  {
   "cell_type": "code",
   "execution_count": 165,
   "metadata": {
    "collapsed": true
   },
   "outputs": [],
   "source": [
    "def preprocess(img):\n",
    "    if img.max()>1:\n",
    "        return (img/255).flatten()\n",
    "    else:\n",
    "        return img.flatten()\n",
    "    \n",
    "def get_azimut_digits(azimut_img,two_digit=False):\n",
    "    if two_digit:\n",
    "        return [(azimut_img[:,5:25][:,i*10:i*10+10][:,:,[0,1,2]].mean(axis=2)) for i in range(2)]\n",
    "    else:\n",
    "        return [(azimut_img[:,i*10:i*10+10][:,:,[0,1,2]].mean(axis=2)) for i in range(3)]\n",
    "\n",
    "def azimuth_from_image(img):\n",
    "    digits = [preprocess(digit) for digit in get_azimut_digits(get_azimut_image(img))]\n",
    "    preds = clf_azimuth_digits.predict(digits)\n",
    "    if 'two-digit' in preds:\n",
    "        preds = clf_azimuth_digits.predict([preprocess(digit) for digit in get_azimut_digits(img,two_digit=True)])\n",
    "    replace_vals = dict(zip([' N ','NE',' E ','SE',' S ','SW',' W ','NW',' N '],\n",
    "                            [ '0', '45','90','135','180','225','270','315','360']))\n",
    "    pred = ''.join(preds)\n",
    "    if pred in replace_vals:\n",
    "        pred = replace_vals[pred]\n",
    "        \n",
    "    percise_img = img[20:73,910:1010][25:30,50:96][:,:,[0,1,2]].mean(axis=2).flatten()\n",
    "    if percise_img.max()<=1:\n",
    "        percise_img = percise_img*255\n",
    "    percise_pred = clf_percise_azimuth.predict([percise_img])\n",
    "    pred = int(pred)\n",
    "    pred = pred//15 * 15\n",
    "    pred_shift = (percise_pred[0]/22.5)\n",
    "    if pred_shift >= 13:\n",
    "        pred = pred-15\n",
    "    return pred + pred_shift\n",
    "    \n",
    "    "
   ]
  },
  {
   "cell_type": "code",
   "execution_count": 166,
   "metadata": {},
   "outputs": [
    {
     "data": {
      "image/png": "[encoded data removed]",
      "text/plain": [
       "<Figure size 432x288 with 1 Axes>"
      ]
     },
     "metadata": {},
     "output_type": "display_data"
    },
    {
     "name": "stdout",
     "output_type": "stream",
     "text": [
      "203.0\n"
     ]
    }
   ],
   "source": [
    "full_img_files = ['data\\\\' + x for x in os.listdir('data')]\n",
    "img = plt.imread(full_img_files[33])\n",
    "# img = get_azimut_image(img)\n",
    "plt.imshow(get_azimut_shot(img))\n",
    "plt.show()\n",
    "print(azimuth_from_image(img))\n"
   ]
  },
  {
   "cell_type": "code",
   "execution_count": 164,
   "metadata": {
    "collapsed": true
   },
   "outputs": [],
   "source": [
    "import pickle\n",
    "with open('azimut_digit_detector_clf.plk', 'wb') as f:\n",
    "    pickle.dump(clf_azimuth_digits, f)\n",
    "\n",
    "with open('azimut_percise_detector_clf.plk', 'wb') as f:\n",
    "    pickle.dump(clf_percise_azimuth, f)"
   ]
  },
  {
   "cell_type": "code",
   "execution_count": 3,
   "metadata": {},
   "outputs": [
    {
     "data": {
      "image/png": "[encoded data removed]",
      "text/plain": [
       "<Figure size 432x288 with 1 Axes>"
      ]
     },
     "metadata": {},
     "output_type": "display_data"
    },
    {
     "name": "stdout",
     "output_type": "stream",
     "text": [
      "203.0\n"
     ]
    }
   ],
   "source": [
    "import numpy as np\n",
    "import matplotlib.pyplot as plt\n",
    "import os\n",
    "from sklearn.linear_model import LogisticRegression\n",
    "import pickle\n",
    "\n",
    "with open('azimut_digit_detector_clf.plk', 'rb') as f:\n",
    "    azimut_digit_detector_clf = pickle.load(f)\n",
    "\n",
    "with open('azimut_percise_detector_clf.plk', 'rb') as f:\n",
    "    azimut_percise_detector_clf = pickle.load(f)\n",
    "    \n",
    "def preprocess(img):\n",
    "    if img.max()>1:\n",
    "        return (img/255).flatten()\n",
    "    else:\n",
    "        return img.flatten()\n",
    "    \n",
    "def get_azimut_digits(azimut_img,two_digit=False):\n",
    "    if two_digit:\n",
    "        return [(azimut_img[:,5:25][:,i*10:i*10+10][:,:,[0,1,2]].mean(axis=2)) for i in range(2)]\n",
    "    else:\n",
    "        return [(azimut_img[:,i*10:i*10+10][:,:,[0,1,2]].mean(axis=2)) for i in range(3)]\n",
    "    \n",
    "def get_azimut_image(img):\n",
    "    return img[57:73,945:975]\n",
    "\n",
    "def azimuth_from_image(img):\n",
    "    digits = [preprocess(digit) for digit in get_azimut_digits(get_azimut_image(img))]\n",
    "    preds = azimut_digit_detector_clf.predict(digits)\n",
    "    if 'two-digit' in preds:\n",
    "        preds = azimut_digit_detector_clf.predict([preprocess(digit) for digit in get_azimut_digits(img,two_digit=True)])\n",
    "    replace_vals = dict(zip([' N ','NE',' E ','SE',' S ','SW',' W ','NW',' N '],\n",
    "                            [ '0', '45','90','135','180','225','270','315','360']))\n",
    "    pred = ''.join(preds)\n",
    "    if pred in replace_vals:\n",
    "        pred = replace_vals[pred]\n",
    "        \n",
    "    percise_img = img[20:73,910:1010][25:30,50:96][:,:,[0,1,2]].mean(axis=2).flatten()\n",
    "    if percise_img.max()<=1:\n",
    "        percise_img = percise_img*255\n",
    "    percise_pred = azimut_percise_detector_clf.predict([percise_img])\n",
    "    pred = int(pred)\n",
    "    pred = pred//15 * 15\n",
    "    pred_shift = (percise_pred[0]/22.5)\n",
    "    if pred_shift >= 13:\n",
    "        pred = pred-15\n",
    "    return pred + pred_shift\n",
    "\n",
    "full_img_files = ['data\\\\' + x for x in os.listdir('data')]\n",
    "img = plt.imread(full_img_files[33])\n",
    "plt.imshow(img[:200,900:1000])\n",
    "plt.show()\n",
    "print(azimuth_from_image(img))"
   ]
  },
  {
   "cell_type": "code",
   "execution_count": 8,
   "metadata": {},
   "outputs": [
    {
     "data": {
      "image/png": "[encoded data removed]",
      "text/plain": [
       "<Figure size 432x288 with 1 Axes>"
      ]
     },
     "metadata": {},
     "output_type": "display_data"
    },
    {
     "name": "stdout",
     "output_type": "stream",
     "text": [
      "241.022\n"
     ]
    }
   ],
   "source": [
    "from  azimuth_detector import azimuth_from_image\n",
    "import os\n",
    "import matplotlib.pyplot as plt\n",
    "\n",
    "full_img_files = ['data\\\\' + x for x in os.listdir('data')]\n",
    "img = plt.imread(full_img_files[14])\n",
    "plt.imshow(img[:100,900:1020])\n",
    "plt.show()\n",
    "print(round(azimuth_from_image(img),3))"
   ]
  },
  {
   "cell_type": "code",
   "execution_count": 46,
   "metadata": {},
   "outputs": [
    {
     "data": {
      "image/png": "[encoded data removed]",
      "text/plain": [
       "<Figure size 720x720 with 16 Axes>"
      ]
     },
     "metadata": {},
     "output_type": "display_data"
    }
   ],
   "source": [
    "f,a  = plt.subplots(ncols=5,nrows=5,figsize=(10,10))\n",
    "\n",
    "for ax,coef,title in zip(a.flatten()[:len(clf.classes_)],clf.coef_,clf.classes_):\n",
    "    ax.imshow(coef.reshape(16,10))\n",
    "    ax.set_title(\"'\" + title + \"'\")\n",
    "    \n",
    "for ax in a.flatten()[len(clf.classes_):]:\n",
    "    ax.remove()\n",
    "    \n",
    "plt.tight_layout()   \n",
    "plt.show()"
   ]
  }
 ],
 "metadata": {
  "kernelspec": {
   "display_name": "Python 3",
   "language": "python",
   "name": "python3"
  },
  "language_info": {
   "codemirror_mode": {
    "name": "ipython",
    "version": 3
   },
   "file_extension": ".py",
   "mimetype": "text/x-python",
   "name": "python",
   "nbconvert_exporter": "python",
   "pygments_lexer": "ipython3",
   "version": "3.6.3"
  }
 },
 "nbformat": 4,
 "nbformat_minor": 2
}
