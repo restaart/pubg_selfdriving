{
 "cells": [
  {
   "cell_type": "code",
   "execution_count": 23,
   "metadata": {
    "collapsed": true
   },
   "outputs": [],
   "source": [
    "import numpy as np\n",
    "from sklearn.linear_model import LogisticRegression\n",
    "import matplotlib.pyplot as plt\n",
    "import os\n",
    "import pickle\n"
   ]
  },
  {
   "cell_type": "code",
   "execution_count": 2,
   "metadata": {
    "collapsed": true
   },
   "outputs": [],
   "source": [
    "path_to_data = '../assets/screenshots/speed_detect/'"
   ]
  },
  {
   "cell_type": "code",
   "execution_count": 3,
   "metadata": {},
   "outputs": [],
   "source": [
    "img_files = [path_to_data + path for path in os.listdir(path_to_data)]"
   ]
  },
  {
   "cell_type": "code",
   "execution_count": 16,
   "metadata": {},
   "outputs": [
    {
     "data": {
      "image/png": "[encoded data removed]",
      "text/plain": [
       "<Figure size 432x288 with 1 Axes>"
      ]
     },
     "metadata": {},
     "output_type": "display_data"
    },
    {
     "name": "stdout",
     "output_type": "stream",
     "text": [
      "(30, 54)\n"
     ]
    },
    {
     "data": {
      "image/png": "[encoded data removed]",
      "text/plain": [
       "<Figure size 432x288 with 3 Axes>"
      ]
     },
     "metadata": {},
     "output_type": "display_data"
    }
   ],
   "source": [
    "def getSpeedDigits(full_img):\n",
    "    img = get_speed_img(full_img)\n",
    "    digit_width = 18\n",
    "    return [img[:,i*18:(i+1)*18] for i in range(3)]\n",
    "\n",
    "def get_speed_img(full_img):\n",
    "    img_x = 156\n",
    "    img_y = 988\n",
    "    img_width = 18*3\n",
    "    img_height = 30\n",
    "    speed_img = full_img[img_y:img_y+img_height,img_x:img_x + img_width][:,:,:3].mean(axis =2)\n",
    "    \n",
    "    if(0<=speed_img.max()<=1):\n",
    "        speed_img = speed_img*255\n",
    "    return (speed_img > 240).astype(np.int8)\n",
    "\n",
    "img = plt.imread(img_files[0])\n",
    "\n",
    "speed_img = get_speed_img(img)\n",
    "plt.imshow(speed_img)\n",
    "plt.show()\n",
    "print(speed_img.shape)\n",
    "\n",
    "digits = getSpeedDigits(img)\n",
    "\n",
    "fig,axes = plt.subplots(ncols=3,nrows=1)\n",
    "for digit,ax,i in zip(digits,axes,range(len(digits))):\n",
    "    ax.imshow(digit)\n",
    "    ax.set_title(f'digit_{i}')\n",
    "plt.show()"
   ]
  },
  {
   "cell_type": "code",
   "execution_count": 17,
   "metadata": {},
   "outputs": [
    {
     "data": {
      "text/plain": [
       "33"
      ]
     },
     "execution_count": 17,
     "metadata": {},
     "output_type": "execute_result"
    }
   ],
   "source": [
    "all_digits = []\n",
    "for img_file in img_files:\n",
    "    img = plt.imread(img_file)\n",
    "    digits = getSpeedDigits(img)\n",
    "    all_digits += digits\n",
    "len(all_digits)"
   ]
  },
  {
   "cell_type": "code",
   "execution_count": 32,
   "metadata": {},
   "outputs": [
    {
     "data": {
      "image/png": "[encoded data removed]",
      "text/plain": [
       "<Figure size 720x288 with 33 Axes>"
      ]
     },
     "metadata": {},
     "output_type": "display_data"
    }
   ],
   "source": [
    "fig,axes = plt.subplots(ncols=12,nrows=3)\n",
    "\n",
    "fig.set_size_inches(10,4)\n",
    "\n",
    "for digit,ax in zip(all_digits,axes.flatten()):\n",
    "    ax.imshow(digit)\n",
    "\n",
    "for ax in axes.flatten()[len(all_digits):]:\n",
    "    ax.remove()\n",
    "    \n",
    "fig.tight_layout()\n",
    "    \n",
    "plt.show()"
   ]
  },
  {
   "cell_type": "code",
   "execution_count": 19,
   "metadata": {
    "collapsed": true
   },
   "outputs": [],
   "source": [
    "speed_values = '106 92 80 68 57 72 42 31 30 25 12'\n",
    "digit_values = list(speed_values)"
   ]
  },
  {
   "cell_type": "code",
   "execution_count": 20,
   "metadata": {},
   "outputs": [
    {
     "name": "stderr",
     "output_type": "stream",
     "text": [
      "D:\\Programs\\anaconda3\\lib\\site-packages\\sklearn\\linear_model\\logistic.py:432: FutureWarning: Default solver will be changed to 'lbfgs' in 0.22. Specify a solver to silence this warning.\n",
      "  FutureWarning)\n",
      "D:\\Programs\\anaconda3\\lib\\site-packages\\sklearn\\linear_model\\logistic.py:469: FutureWarning: Default multi_class will be changed to 'auto' in 0.22. Specify the multi_class option to silence this warning.\n",
      "  \"this warning.\", FutureWarning)\n"
     ]
    },
    {
     "data": {
      "text/plain": [
       "1.0"
      ]
     },
     "execution_count": 20,
     "metadata": {},
     "output_type": "execute_result"
    }
   ],
   "source": [
    "digit_detector = LogisticRegression()\n",
    "X = [digit.flatten() for digit in all_digits]\n",
    "y = digit_values\n",
    "\n",
    "digit_detector.fit(X,y)\n",
    "digit_detector.score(X,y)"
   ]
  },
  {
   "cell_type": "code",
   "execution_count": 21,
   "metadata": {},
   "outputs": [
    {
     "data": {
      "text/plain": [
       "'106'"
      ]
     },
     "execution_count": 21,
     "metadata": {},
     "output_type": "execute_result"
    }
   ],
   "source": [
    "def speed_from_image(full_img):    \n",
    "    value = (\"\".join(digit_detector.predict(np.array([d.flatten() for d in getSpeedDigits(full_img)]))))\n",
    "    return value if value!='   ' else None\n",
    "\n",
    "speed_from_image(plt.imread(img_files[0]))"
   ]
  },
  {
   "cell_type": "code",
   "execution_count": 22,
   "metadata": {},
   "outputs": [
    {
     "data": {
      "image/png": "[encoded data removed]",
      "text/plain": [
       "<Figure size 720x720 with 9 Axes>"
      ]
     },
     "metadata": {},
     "output_type": "display_data"
    }
   ],
   "source": [
    "path_to_test = '../assets/bad_gps/'\n",
    "test_imgs_files = [path_to_test + path for path in os.listdir(path_to_test)]\n",
    "\n",
    "fig,axes = plt.subplots(ncols=3,nrows=3)\n",
    "fig.set_size_inches(10,10)\n",
    "\n",
    "for file,ax in zip(test_imgs_files,axes.flatten()):\n",
    "    img = plt.imread(file)\n",
    "    speed_img = get_speed_img(img)\n",
    "    ax.imshow(speed_img)\n",
    "    ax.set_title(speed_from_image(img))\n",
    "    \n",
    "plt.show()\n",
    "    \n",
    "    "
   ]
  },
  {
   "cell_type": "code",
   "execution_count": 24,
   "metadata": {},
   "outputs": [],
   "source": [
    "with open('digit_detector.pkl', 'wb') as f:\n",
    "    pickle.dump(digit_detector, f)\n"
   ]
  }
 ],
 "metadata": {
  "kernelspec": {
   "display_name": "Python 3",
   "language": "python",
   "name": "python3"
  },
  "language_info": {
   "codemirror_mode": {
    "name": "ipython",
    "version": 3
   },
   "file_extension": ".py",
   "mimetype": "text/x-python",
   "name": "python",
   "nbconvert_exporter": "python",
   "pygments_lexer": "ipython3",
   "version": "3.6.3"
  }
 },
 "nbformat": 4,
 "nbformat_minor": 2
}
